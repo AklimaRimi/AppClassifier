{
  "cells": [
    {
      "cell_type": "markdown",
      "metadata": {
        "id": "SR8WkTyJ5XHC"
      },
      "source": [
        "# App Classifier\n",
        "\n",
        "In this project I tried to train and test model feed the scrapped data. The data contains softwares' `Description` and `Labels` of a particular software.\n",
        "\n",
        "It is an `Multi Label` project. So each description contains more than one label.\n",
        "\n",
        "\n",
        "Almost 17000 data has been collected for this project.\n",
        "\n",
        "**Model**\n",
        "\n",
        "For the model, I used `pytorch` and `HuggingFace` built in models to get better accuracy. "
      ]
    },
    {
      "cell_type": "markdown",
      "metadata": {
        "id": "Uzwf2v2k5bMN"
      },
      "source": [
        "# Install and set up libraries."
      ]
    },
    {
      "cell_type": "code",
      "execution_count": 1,
      "metadata": {
        "colab": {
          "base_uri": "https://localhost:8080/"
        },
        "id": "DD8g-89NlwKP",
        "outputId": "b0357e0a-aa01-481c-e580-f92b9522df5f"
      },
      "outputs": [
        {
          "name": "stdout",
          "output_type": "stream",
          "text": [
            "\u001b[2K     \u001b[90m━━━━━━━━━━━━━━━━━━━━━━━━━━━━━━━━━━━━━━━━\u001b[0m \u001b[32m6.3/6.3 MB\u001b[0m \u001b[31m34.1 MB/s\u001b[0m eta \u001b[36m0:00:00\u001b[0m\n",
            "\u001b[2K     \u001b[90m━━━━━━━━━━━━━━━━━━━━━━━━━━━━━━━━━━━━━━\u001b[0m \u001b[32m719.8/719.8 KB\u001b[0m \u001b[31m32.6 MB/s\u001b[0m eta \u001b[36m0:00:00\u001b[0m\n",
            "\u001b[2K     \u001b[90m━━━━━━━━━━━━━━━━━━━━━━━━━━━━━━━━━━━━━━━━\u001b[0m \u001b[32m81.1/81.1 KB\u001b[0m \u001b[31m6.7 MB/s\u001b[0m eta \u001b[36m0:00:00\u001b[0m\n",
            "\u001b[2K     \u001b[90m━━━━━━━━━━━━━━━━━━━━━━━━━━━━━━━━━━━━━━━━\u001b[0m \u001b[32m5.0/5.0 MB\u001b[0m \u001b[31m93.1 MB/s\u001b[0m eta \u001b[36m0:00:00\u001b[0m\n",
            "\u001b[2K     \u001b[90m━━━━━━━━━━━━━━━━━━━━━━━━━━━━━━━━━━━━━━━━\u001b[0m \u001b[32m13.5/13.5 MB\u001b[0m \u001b[31m46.8 MB/s\u001b[0m eta \u001b[36m0:00:00\u001b[0m\n",
            "\u001b[2K     \u001b[90m━━━━━━━━━━━━━━━━━━━━━━━━━━━━━━━━━━━━━━━━\u001b[0m \u001b[32m64.8/64.8 KB\u001b[0m \u001b[31m8.5 MB/s\u001b[0m eta \u001b[36m0:00:00\u001b[0m\n",
            "\u001b[2K     \u001b[90m━━━━━━━━━━━━━━━━━━━━━━━━━━━━━━━━━━━━━━━━\u001b[0m \u001b[32m7.6/7.6 MB\u001b[0m \u001b[31m96.3 MB/s\u001b[0m eta \u001b[36m0:00:00\u001b[0m\n",
            "\u001b[2K     \u001b[90m━━━━━━━━━━━━━━━━━━━━━━━━━━━━━━━━━━━━━━\u001b[0m \u001b[32m190.3/190.3 KB\u001b[0m \u001b[31m24.7 MB/s\u001b[0m eta \u001b[36m0:00:00\u001b[0m\n",
            "\u001b[2K     \u001b[90m━━━━━━━━━━━━━━━━━━━━━━━━━━━━━━━━━━━━━━━━\u001b[0m \u001b[32m1.3/1.3 MB\u001b[0m \u001b[31m57.3 MB/s\u001b[0m eta \u001b[36m0:00:00\u001b[0m\n",
            "\u001b[2K     \u001b[90m━━━━━━━━━━━━━━━━━━━━━━━━━━━━━━━━━━━━━━\u001b[0m \u001b[32m469.0/469.0 KB\u001b[0m \u001b[31m39.3 MB/s\u001b[0m eta \u001b[36m0:00:00\u001b[0m\n",
            "\u001b[2K     \u001b[90m━━━━━━━━━━━━━━━━━━━━━━━━━━━━━━━━━━━━━━━━\u001b[0m \u001b[32m96.5/96.5 KB\u001b[0m \u001b[31m8.8 MB/s\u001b[0m eta \u001b[36m0:00:00\u001b[0m\n",
            "\u001b[2K     \u001b[90m━━━━━━━━━━━━━━━━━━━━━━━━━━━━━━━━━━━━━━━━\u001b[0m \u001b[32m43.6/43.6 KB\u001b[0m \u001b[31m5.3 MB/s\u001b[0m eta \u001b[36m0:00:00\u001b[0m\n",
            "\u001b[?25h  Preparing metadata (setup.py) ... \u001b[?25l\u001b[?25hdone\n",
            "  Preparing metadata (setup.py) ... \u001b[?25l\u001b[?25hdone\n",
            "\u001b[2K     \u001b[90m━━━━━━━━━━━━━━━━━━━━━━━━━━━━━━━━━━━━━━━━\u001b[0m \u001b[32m46.0/46.0 KB\u001b[0m \u001b[31m4.9 MB/s\u001b[0m eta \u001b[36m0:00:00\u001b[0m\n",
            "\u001b[2K     \u001b[90m━━━━━━━━━━━━━━━━━━━━━━━━━━━━━━━━━━━━━━━━\u001b[0m \u001b[32m1.0/1.0 MB\u001b[0m \u001b[31m30.6 MB/s\u001b[0m eta \u001b[36m0:00:00\u001b[0m\n",
            "\u001b[2K     \u001b[90m━━━━━━━━━━━━━━━━━━━━━━━━━━━━━━━━━━━━━━━━\u001b[0m \u001b[32m58.1/58.1 KB\u001b[0m \u001b[31m7.6 MB/s\u001b[0m eta \u001b[36m0:00:00\u001b[0m\n",
            "\u001b[2K     \u001b[90m━━━━━━━━━━━━━━━━━━━━━━━━━━━━━━━━━━━━━━━━\u001b[0m \u001b[32m80.7/80.7 KB\u001b[0m \u001b[31m11.2 MB/s\u001b[0m eta \u001b[36m0:00:00\u001b[0m\n",
            "\u001b[2K     \u001b[90m━━━━━━━━━━━━━━━━━━━━━━━━━━━━━━━━━━━━━━━━\u001b[0m \u001b[32m86.8/86.8 KB\u001b[0m \u001b[31m10.8 MB/s\u001b[0m eta \u001b[36m0:00:00\u001b[0m\n",
            "\u001b[2K     \u001b[90m━━━━━━━━━━━━━━━━━━━━━━━━━━━━━━━━━━━━━━\u001b[0m \u001b[32m213.0/213.0 KB\u001b[0m \u001b[31m18.6 MB/s\u001b[0m eta \u001b[36m0:00:00\u001b[0m\n",
            "\u001b[2K     \u001b[90m━━━━━━━━━━━━━━━━━━━━━━━━━━━━━━━━━━━━━━\u001b[0m \u001b[32m132.0/132.0 KB\u001b[0m \u001b[31m15.4 MB/s\u001b[0m eta \u001b[36m0:00:00\u001b[0m\n",
            "\u001b[2K     \u001b[90m━━━━━━━━━━━━━━━━━━━━━━━━━━━━━━━━━━━━━━━━\u001b[0m \u001b[32m1.6/1.6 MB\u001b[0m \u001b[31m80.6 MB/s\u001b[0m eta \u001b[36m0:00:00\u001b[0m\n",
            "\u001b[2K     \u001b[90m━━━━━━━━━━━━━━━━━━━━━━━━━━━━━━━━━━━━━━\u001b[0m \u001b[32m140.6/140.6 KB\u001b[0m \u001b[31m20.0 MB/s\u001b[0m eta \u001b[36m0:00:00\u001b[0m\n",
            "\u001b[?25h  Building wheel for rouge-score (setup.py) ... \u001b[?25l\u001b[?25hdone\n",
            "  Building wheel for seqeval (setup.py) ... \u001b[?25l\u001b[?25hdone\n",
            "\u001b[31mERROR: pip's dependency resolver does not currently take into account all the packages that are installed. This behaviour is the source of the following dependency conflicts.\n",
            "tensorflow 2.11.0 requires protobuf<3.20,>=3.9.2, but you have protobuf 3.20.2 which is incompatible.\u001b[0m\u001b[31m\n",
            "\u001b[0m"
          ]
        }
      ],
      "source": [
        "! pip install -q transformers[sentencepiece] fastbook fastai ohmeow-blurr onnxruntime onnx nbdev"
      ]
    },
    {
      "cell_type": "code",
      "execution_count": 2,
      "metadata": {
        "colab": {
          "base_uri": "https://localhost:8080/"
        },
        "id": "cfAwYHDj8xg3",
        "outputId": "606bab45-795b-4b17-db55-ae3960c6fd75"
      },
      "outputs": [
        {
          "name": "stdout",
          "output_type": "stream",
          "text": [
            "Mounted at /content/drive\n"
          ]
        }
      ],
      "source": [
        "from google.colab import drive\n",
        "drive.mount('/content/drive')"
      ]
    },
    {
      "cell_type": "code",
      "execution_count": 3,
      "metadata": {
        "colab": {
          "base_uri": "https://localhost:8080/",
          "height": 205,
          "referenced_widgets": [
            "b7923815fbd540699337ef5ad78af3db",
            "110918c88dfe44bba24bec21124b4679",
            "90cc36330dcd42b587db908177ad42f7",
            "7a2136abc3c9454384c812db01159beb",
            "93f854b22555421899f687b83d2d8d90",
            "54c509b1792040c0b44172d32d5daee5",
            "419ba07199a345188a868bd5b2a5a58c",
            "9926202ad41649d4ab86b436fb239d9b",
            "5f52a613b4694b7ba0121895cee8e23a",
            "77141b665e034dc486e704bec4d21752",
            "8f2e02245c7b44a5b92b77f86bf80a29",
            "785b3558a8e94c3a9cbaf2b15e4a1f68",
            "e076f428a8774a8fabe981b0e445fb3f",
            "2b497bc439a04fddb02f1cc2bd74f39c",
            "5358e31b4e404e418f3bbd9d3a09a558",
            "bac635bfc0c7426b892c86aeafa244c0",
            "fbecb4d8292c42edaf3475e2b264554f",
            "2da3c076b7a84a218bd6e16d0d11ecc9",
            "748e2b11baed48c1b964e893f868c192",
            "f8138e170d44428997cbaf4f7d7e958f",
            "64759fdba31a445b9e4a56552d9ccf2a",
            "b111c79cec8a461eb6ffd3eb4e5dc337"
          ]
        },
        "id": "4hiSRd61PFXt",
        "outputId": "f86f44bc-8e84-4d2f-9671-10e3915693fa"
      },
      "outputs": [
        {
          "name": "stderr",
          "output_type": "stream",
          "text": [
            "/usr/local/lib/python3.8/dist-packages/transformers/generation_utils.py:24: FutureWarning: Importing `GenerationMixin` from `src/transformers/generation_utils.py` is deprecated and will be removed in Transformers v5. Import as `from transformers import GenerationMixin` instead.\n",
            "  warnings.warn(\n",
            "/usr/local/lib/python3.8/dist-packages/transformers/generation_tf_utils.py:24: FutureWarning: Importing `TFGenerationMixin` from `src/transformers/generation_tf_utils.py` is deprecated and will be removed in Transformers v5. Import as `from transformers import TFGenerationMixin` instead.\n",
            "  warnings.warn(\n",
            "/usr/local/lib/python3.8/dist-packages/blurr/text/modeling/question_answering.py:31: FutureWarning: load_metric is deprecated and will be removed in the next major version of datasets. Use 'evaluate.load' instead, from the new library 🤗 Evaluate: https://huggingface.co/docs/evaluate\n",
            "  squad_metric = load_metric(\"squad\")\n"
          ]
        },
        {
          "data": {
            "application/vnd.jupyter.widget-view+json": {
              "model_id": "b7923815fbd540699337ef5ad78af3db",
              "version_major": 2,
              "version_minor": 0
            },
            "text/plain": [
              "Downloading builder script:   0%|          | 0.00/1.72k [00:00<?, ?B/s]"
            ]
          },
          "metadata": {},
          "output_type": "display_data"
        },
        {
          "data": {
            "application/vnd.jupyter.widget-view+json": {
              "model_id": "785b3558a8e94c3a9cbaf2b15e4a1f68",
              "version_major": 2,
              "version_minor": 0
            },
            "text/plain": [
              "Downloading extra modules:   0%|          | 0.00/1.12k [00:00<?, ?B/s]"
            ]
          },
          "metadata": {},
          "output_type": "display_data"
        }
      ],
      "source": [
        "import pandas as pd\n",
        "import numpy as np\n",
        "import torch\n",
        "from transformers import *\n",
        "from fastai.text.all import *\n",
        "from blurr.text.data.all import *\n",
        "from blurr.text.modeling.all import *\n",
        "from onnxruntime.quantization import quantize_dynamic, QuantType\n"
      ]
    },
    {
      "cell_type": "markdown",
      "metadata": {
        "id": "x5TtJ2345e7i"
      },
      "source": [
        "# EDA and Data Wrangling\n"
      ]
    },
    {
      "cell_type": "code",
      "execution_count": 4,
      "metadata": {
        "colab": {
          "base_uri": "https://localhost:8080/",
          "height": 441
        },
        "id": "HjF8jPGNPubI",
        "outputId": "f6b2fe86-4b88-4b84-824d-f68f6d46cc52"
      },
      "outputs": [
        {
          "data": {
            "text/html": [
              "\n",
              "  <div id=\"df-fa405aa9-30f6-4136-bb30-d92b1403e167\">\n",
              "    <div class=\"colab-df-container\">\n",
              "      <div>\n",
              "<style scoped>\n",
              "    .dataframe tbody tr th:only-of-type {\n",
              "        vertical-align: middle;\n",
              "    }\n",
              "\n",
              "    .dataframe tbody tr th {\n",
              "        vertical-align: top;\n",
              "    }\n",
              "\n",
              "    .dataframe thead th {\n",
              "        text-align: right;\n",
              "    }\n",
              "</style>\n",
              "<table border=\"1\" class=\"dataframe\">\n",
              "  <thead>\n",
              "    <tr style=\"text-align: right;\">\n",
              "      <th></th>\n",
              "      <th>Description</th>\n",
              "      <th>Category</th>\n",
              "    </tr>\n",
              "  </thead>\n",
              "  <tbody>\n",
              "    <tr>\n",
              "      <th>0</th>\n",
              "      <td>KeePass Password Safe is a free, open source, lightweight, and easy-to-use password manager for Windows, Linux and Mac OS X, with ports for Android, iPhone/iPad and other mobile devices. With so many passwords to remember and the need to vary passwords to protect your valuable data, it’s nice to have KeePass to manage your passwords in a secure way. KeePass puts all your passwords in a highly encrypted database and locks them with one master key or a key file. As a result, you only have to remember one single master password or select the key file to unlock the whole database. And the data...</td>\n",
              "      <td>Categories\\nOffice/Business, Database, Security, Desktop Environment, Internet, Password Generators</td>\n",
              "    </tr>\n",
              "    <tr>\n",
              "      <th>1</th>\n",
              "      <td>XAMPP is a very easy to install Apache Distribution for Linux, Solaris, Windows, and Mac OS X. The package includes the Apache web server, MySQL, PHP, Perl, a FTP server and phpMyAdmin.XAMPP is a very easy to install Apache Distribution for Linux, Solaris, Windows, and Mac OS X. The package includes the Apache web server, MySQL, PHP, Perl, a FTP server and phpMyAdmin.</td>\n",
              "      <td>Categories\\nDatabase Engines/Servers, Dynamic Content, Site Management, HTTP Servers</td>\n",
              "    </tr>\n",
              "    <tr>\n",
              "      <th>2</th>\n",
              "      <td>Technical analysis library with indicators like ADX, MACD, RSI, Stochastic, TRIX... includes also candlestick pattern recognition. Useful for trading application developpers using either Excel, .NET, Mono, Java, Perl or C/C++.Technical analysis library with indicators like ADX, MACD, RSI, Stochastic, TRIX... includes also candlestick pattern recognition. Useful for trading application developpers using either Excel, .NET, Mono, Java, Perl or C/C++.</td>\n",
              "      <td>Categories\\nInvestment Management, Spreadsheet, Front-Ends, Algorithms, Information Analysis</td>\n",
              "    </tr>\n",
              "    <tr>\n",
              "      <th>3</th>\n",
              "      <td>AppServ is an merging open source software installer package for Windows and Linux.AppServ is an merging open source software installer package for Windows and Linux.</td>\n",
              "      <td>Categories\\nDatabase Engines/Servers, Site Management, HTTP Servers</td>\n",
              "    </tr>\n",
              "    <tr>\n",
              "      <th>4</th>\n",
              "      <td>LibreOffice is a free and powerful office suite, and a successor to OpenOffice. Its clean interface and feature-rich tools help you unleash your creativity and enhance your productivity.\\n\\nLibreOffice is Free and Open Source Software (FOSS) – development is open to new talent and new ideas, and our software is tested and used daily by a large and devoted user community. Your documents will look professional and clean, regardless of their purpose: a letter, a master thesis, a brochure, financial reports, marketing presentations, technical drawings and diagrams. LibreOffice makes your work ...</td>\n",
              "      <td>Categories\\nWord Processors, Office Suites, Front-Ends</td>\n",
              "    </tr>\n",
              "  </tbody>\n",
              "</table>\n",
              "</div>\n",
              "      <button class=\"colab-df-convert\" onclick=\"convertToInteractive('df-fa405aa9-30f6-4136-bb30-d92b1403e167')\"\n",
              "              title=\"Convert this dataframe to an interactive table.\"\n",
              "              style=\"display:none;\">\n",
              "        \n",
              "  <svg xmlns=\"http://www.w3.org/2000/svg\" height=\"24px\"viewBox=\"0 0 24 24\"\n",
              "       width=\"24px\">\n",
              "    <path d=\"M0 0h24v24H0V0z\" fill=\"none\"/>\n",
              "    <path d=\"M18.56 5.44l.94 2.06.94-2.06 2.06-.94-2.06-.94-.94-2.06-.94 2.06-2.06.94zm-11 1L8.5 8.5l.94-2.06 2.06-.94-2.06-.94L8.5 2.5l-.94 2.06-2.06.94zm10 10l.94 2.06.94-2.06 2.06-.94-2.06-.94-.94-2.06-.94 2.06-2.06.94z\"/><path d=\"M17.41 7.96l-1.37-1.37c-.4-.4-.92-.59-1.43-.59-.52 0-1.04.2-1.43.59L10.3 9.45l-7.72 7.72c-.78.78-.78 2.05 0 2.83L4 21.41c.39.39.9.59 1.41.59.51 0 1.02-.2 1.41-.59l7.78-7.78 2.81-2.81c.8-.78.8-2.07 0-2.86zM5.41 20L4 18.59l7.72-7.72 1.47 1.35L5.41 20z\"/>\n",
              "  </svg>\n",
              "      </button>\n",
              "      \n",
              "  <style>\n",
              "    .colab-df-container {\n",
              "      display:flex;\n",
              "      flex-wrap:wrap;\n",
              "      gap: 12px;\n",
              "    }\n",
              "\n",
              "    .colab-df-convert {\n",
              "      background-color: #E8F0FE;\n",
              "      border: none;\n",
              "      border-radius: 50%;\n",
              "      cursor: pointer;\n",
              "      display: none;\n",
              "      fill: #1967D2;\n",
              "      height: 32px;\n",
              "      padding: 0 0 0 0;\n",
              "      width: 32px;\n",
              "    }\n",
              "\n",
              "    .colab-df-convert:hover {\n",
              "      background-color: #E2EBFA;\n",
              "      box-shadow: 0px 1px 2px rgba(60, 64, 67, 0.3), 0px 1px 3px 1px rgba(60, 64, 67, 0.15);\n",
              "      fill: #174EA6;\n",
              "    }\n",
              "\n",
              "    [theme=dark] .colab-df-convert {\n",
              "      background-color: #3B4455;\n",
              "      fill: #D2E3FC;\n",
              "    }\n",
              "\n",
              "    [theme=dark] .colab-df-convert:hover {\n",
              "      background-color: #434B5C;\n",
              "      box-shadow: 0px 1px 3px 1px rgba(0, 0, 0, 0.15);\n",
              "      filter: drop-shadow(0px 1px 2px rgba(0, 0, 0, 0.3));\n",
              "      fill: #FFFFFF;\n",
              "    }\n",
              "  </style>\n",
              "\n",
              "      <script>\n",
              "        const buttonEl =\n",
              "          document.querySelector('#df-fa405aa9-30f6-4136-bb30-d92b1403e167 button.colab-df-convert');\n",
              "        buttonEl.style.display =\n",
              "          google.colab.kernel.accessAllowed ? 'block' : 'none';\n",
              "\n",
              "        async function convertToInteractive(key) {\n",
              "          const element = document.querySelector('#df-fa405aa9-30f6-4136-bb30-d92b1403e167');\n",
              "          const dataTable =\n",
              "            await google.colab.kernel.invokeFunction('convertToInteractive',\n",
              "                                                     [key], {});\n",
              "          if (!dataTable) return;\n",
              "\n",
              "          const docLinkHtml = 'Like what you see? Visit the ' +\n",
              "            '<a target=\"_blank\" href=https://colab.research.google.com/notebooks/data_table.ipynb>data table notebook</a>'\n",
              "            + ' to learn more about interactive tables.';\n",
              "          element.innerHTML = '';\n",
              "          dataTable['output_type'] = 'display_data';\n",
              "          await google.colab.output.renderOutput(dataTable, element);\n",
              "          const docLink = document.createElement('div');\n",
              "          docLink.innerHTML = docLinkHtml;\n",
              "          element.appendChild(docLink);\n",
              "        }\n",
              "      </script>\n",
              "    </div>\n",
              "  </div>\n",
              "  "
            ],
            "text/plain": [
              "                                                                                                                                                                                                                                                                                                                                                                                                                                                                                                                                                                                                               Description  \\\n",
              "0  KeePass Password Safe is a free, open source, lightweight, and easy-to-use password manager for Windows, Linux and Mac OS X, with ports for Android, iPhone/iPad and other mobile devices. With so many passwords to remember and the need to vary passwords to protect your valuable data, it’s nice to have KeePass to manage your passwords in a secure way. KeePass puts all your passwords in a highly encrypted database and locks them with one master key or a key file. As a result, you only have to remember one single master password or select the key file to unlock the whole database. And the data...   \n",
              "1                                                                                                                                                                                                                                       XAMPP is a very easy to install Apache Distribution for Linux, Solaris, Windows, and Mac OS X. The package includes the Apache web server, MySQL, PHP, Perl, a FTP server and phpMyAdmin.XAMPP is a very easy to install Apache Distribution for Linux, Solaris, Windows, and Mac OS X. The package includes the Apache web server, MySQL, PHP, Perl, a FTP server and phpMyAdmin.   \n",
              "2                                                                                                                                                     Technical analysis library with indicators like ADX, MACD, RSI, Stochastic, TRIX... includes also candlestick pattern recognition. Useful for trading application developpers using either Excel, .NET, Mono, Java, Perl or C/C++.Technical analysis library with indicators like ADX, MACD, RSI, Stochastic, TRIX... includes also candlestick pattern recognition. Useful for trading application developpers using either Excel, .NET, Mono, Java, Perl or C/C++.   \n",
              "3                                                                                                                                                                                                                                                                                                                                                                                                                                                   AppServ is an merging open source software installer package for Windows and Linux.AppServ is an merging open source software installer package for Windows and Linux.   \n",
              "4  LibreOffice is a free and powerful office suite, and a successor to OpenOffice. Its clean interface and feature-rich tools help you unleash your creativity and enhance your productivity.\\n\\nLibreOffice is Free and Open Source Software (FOSS) – development is open to new talent and new ideas, and our software is tested and used daily by a large and devoted user community. Your documents will look professional and clean, regardless of their purpose: a letter, a master thesis, a brochure, financial reports, marketing presentations, technical drawings and diagrams. LibreOffice makes your work ...   \n",
              "\n",
              "                                                                                              Category  \n",
              "0  Categories\\nOffice/Business, Database, Security, Desktop Environment, Internet, Password Generators  \n",
              "1                 Categories\\nDatabase Engines/Servers, Dynamic Content, Site Management, HTTP Servers  \n",
              "2         Categories\\nInvestment Management, Spreadsheet, Front-Ends, Algorithms, Information Analysis  \n",
              "3                                  Categories\\nDatabase Engines/Servers, Site Management, HTTP Servers  \n",
              "4                                               Categories\\nWord Processors, Office Suites, Front-Ends  "
            ]
          },
          "execution_count": 4,
          "metadata": {},
          "output_type": "execute_result"
        }
      ],
      "source": [
        "data = pd.read_csv('data/final_data.csv')\n",
        "data.head()"
      ]
    },
    {
      "cell_type": "code",
      "execution_count": 5,
      "metadata": {
        "colab": {
          "base_uri": "https://localhost:8080/"
        },
        "id": "LKpQLBpbQhvs",
        "outputId": "2e03a2ac-3181-4e57-e76b-7e7d620fd046"
      },
      "outputs": [
        {
          "data": {
            "text/plain": [
              "(33770, 2)"
            ]
          },
          "execution_count": 5,
          "metadata": {},
          "output_type": "execute_result"
        }
      ],
      "source": [
        "data.shape"
      ]
    },
    {
      "cell_type": "code",
      "execution_count": 6,
      "metadata": {
        "colab": {
          "base_uri": "https://localhost:8080/"
        },
        "id": "_RzLHk71QkC-",
        "outputId": "f97c14ab-cc2d-4ae7-c1af-04987aac24f0"
      },
      "outputs": [
        {
          "data": {
            "text/plain": [
              "(33768, 2)"
            ]
          },
          "execution_count": 6,
          "metadata": {},
          "output_type": "execute_result"
        }
      ],
      "source": [
        "data = data.dropna()\n",
        "data.shape"
      ]
    },
    {
      "cell_type": "code",
      "execution_count": 7,
      "metadata": {
        "id": "fIIB4v3hQJ1u"
      },
      "outputs": [],
      "source": [
        "data['Category'] = data['Category'].apply(lambda x: x.split('\\n')[1])"
      ]
    },
    {
      "cell_type": "code",
      "execution_count": 8,
      "metadata": {
        "colab": {
          "base_uri": "https://localhost:8080/",
          "height": 441
        },
        "id": "VNyU4SOnQqH1",
        "outputId": "cc4b083d-cc8f-46b8-86c9-2c7f109ee1a6"
      },
      "outputs": [
        {
          "data": {
            "text/html": [
              "\n",
              "  <div id=\"df-682dbc20-2974-4240-9f41-469a5c66b144\">\n",
              "    <div class=\"colab-df-container\">\n",
              "      <div>\n",
              "<style scoped>\n",
              "    .dataframe tbody tr th:only-of-type {\n",
              "        vertical-align: middle;\n",
              "    }\n",
              "\n",
              "    .dataframe tbody tr th {\n",
              "        vertical-align: top;\n",
              "    }\n",
              "\n",
              "    .dataframe thead th {\n",
              "        text-align: right;\n",
              "    }\n",
              "</style>\n",
              "<table border=\"1\" class=\"dataframe\">\n",
              "  <thead>\n",
              "    <tr style=\"text-align: right;\">\n",
              "      <th></th>\n",
              "      <th>Description</th>\n",
              "      <th>Category</th>\n",
              "    </tr>\n",
              "  </thead>\n",
              "  <tbody>\n",
              "    <tr>\n",
              "      <th>0</th>\n",
              "      <td>KeePass Password Safe is a free, open source, lightweight, and easy-to-use password manager for Windows, Linux and Mac OS X, with ports for Android, iPhone/iPad and other mobile devices. With so many passwords to remember and the need to vary passwords to protect your valuable data, it’s nice to have KeePass to manage your passwords in a secure way. KeePass puts all your passwords in a highly encrypted database and locks them with one master key or a key file. As a result, you only have to remember one single master password or select the key file to unlock the whole database. And the data...</td>\n",
              "      <td>Office/Business, Database, Security, Desktop Environment, Internet, Password Generators</td>\n",
              "    </tr>\n",
              "    <tr>\n",
              "      <th>1</th>\n",
              "      <td>XAMPP is a very easy to install Apache Distribution for Linux, Solaris, Windows, and Mac OS X. The package includes the Apache web server, MySQL, PHP, Perl, a FTP server and phpMyAdmin.XAMPP is a very easy to install Apache Distribution for Linux, Solaris, Windows, and Mac OS X. The package includes the Apache web server, MySQL, PHP, Perl, a FTP server and phpMyAdmin.</td>\n",
              "      <td>Database Engines/Servers, Dynamic Content, Site Management, HTTP Servers</td>\n",
              "    </tr>\n",
              "    <tr>\n",
              "      <th>2</th>\n",
              "      <td>Technical analysis library with indicators like ADX, MACD, RSI, Stochastic, TRIX... includes also candlestick pattern recognition. Useful for trading application developpers using either Excel, .NET, Mono, Java, Perl or C/C++.Technical analysis library with indicators like ADX, MACD, RSI, Stochastic, TRIX... includes also candlestick pattern recognition. Useful for trading application developpers using either Excel, .NET, Mono, Java, Perl or C/C++.</td>\n",
              "      <td>Investment Management, Spreadsheet, Front-Ends, Algorithms, Information Analysis</td>\n",
              "    </tr>\n",
              "    <tr>\n",
              "      <th>3</th>\n",
              "      <td>AppServ is an merging open source software installer package for Windows and Linux.AppServ is an merging open source software installer package for Windows and Linux.</td>\n",
              "      <td>Database Engines/Servers, Site Management, HTTP Servers</td>\n",
              "    </tr>\n",
              "    <tr>\n",
              "      <th>4</th>\n",
              "      <td>LibreOffice is a free and powerful office suite, and a successor to OpenOffice. Its clean interface and feature-rich tools help you unleash your creativity and enhance your productivity.\\n\\nLibreOffice is Free and Open Source Software (FOSS) – development is open to new talent and new ideas, and our software is tested and used daily by a large and devoted user community. Your documents will look professional and clean, regardless of their purpose: a letter, a master thesis, a brochure, financial reports, marketing presentations, technical drawings and diagrams. LibreOffice makes your work ...</td>\n",
              "      <td>Word Processors, Office Suites, Front-Ends</td>\n",
              "    </tr>\n",
              "  </tbody>\n",
              "</table>\n",
              "</div>\n",
              "      <button class=\"colab-df-convert\" onclick=\"convertToInteractive('df-682dbc20-2974-4240-9f41-469a5c66b144')\"\n",
              "              title=\"Convert this dataframe to an interactive table.\"\n",
              "              style=\"display:none;\">\n",
              "        \n",
              "  <svg xmlns=\"http://www.w3.org/2000/svg\" height=\"24px\"viewBox=\"0 0 24 24\"\n",
              "       width=\"24px\">\n",
              "    <path d=\"M0 0h24v24H0V0z\" fill=\"none\"/>\n",
              "    <path d=\"M18.56 5.44l.94 2.06.94-2.06 2.06-.94-2.06-.94-.94-2.06-.94 2.06-2.06.94zm-11 1L8.5 8.5l.94-2.06 2.06-.94-2.06-.94L8.5 2.5l-.94 2.06-2.06.94zm10 10l.94 2.06.94-2.06 2.06-.94-2.06-.94-.94-2.06-.94 2.06-2.06.94z\"/><path d=\"M17.41 7.96l-1.37-1.37c-.4-.4-.92-.59-1.43-.59-.52 0-1.04.2-1.43.59L10.3 9.45l-7.72 7.72c-.78.78-.78 2.05 0 2.83L4 21.41c.39.39.9.59 1.41.59.51 0 1.02-.2 1.41-.59l7.78-7.78 2.81-2.81c.8-.78.8-2.07 0-2.86zM5.41 20L4 18.59l7.72-7.72 1.47 1.35L5.41 20z\"/>\n",
              "  </svg>\n",
              "      </button>\n",
              "      \n",
              "  <style>\n",
              "    .colab-df-container {\n",
              "      display:flex;\n",
              "      flex-wrap:wrap;\n",
              "      gap: 12px;\n",
              "    }\n",
              "\n",
              "    .colab-df-convert {\n",
              "      background-color: #E8F0FE;\n",
              "      border: none;\n",
              "      border-radius: 50%;\n",
              "      cursor: pointer;\n",
              "      display: none;\n",
              "      fill: #1967D2;\n",
              "      height: 32px;\n",
              "      padding: 0 0 0 0;\n",
              "      width: 32px;\n",
              "    }\n",
              "\n",
              "    .colab-df-convert:hover {\n",
              "      background-color: #E2EBFA;\n",
              "      box-shadow: 0px 1px 2px rgba(60, 64, 67, 0.3), 0px 1px 3px 1px rgba(60, 64, 67, 0.15);\n",
              "      fill: #174EA6;\n",
              "    }\n",
              "\n",
              "    [theme=dark] .colab-df-convert {\n",
              "      background-color: #3B4455;\n",
              "      fill: #D2E3FC;\n",
              "    }\n",
              "\n",
              "    [theme=dark] .colab-df-convert:hover {\n",
              "      background-color: #434B5C;\n",
              "      box-shadow: 0px 1px 3px 1px rgba(0, 0, 0, 0.15);\n",
              "      filter: drop-shadow(0px 1px 2px rgba(0, 0, 0, 0.3));\n",
              "      fill: #FFFFFF;\n",
              "    }\n",
              "  </style>\n",
              "\n",
              "      <script>\n",
              "        const buttonEl =\n",
              "          document.querySelector('#df-682dbc20-2974-4240-9f41-469a5c66b144 button.colab-df-convert');\n",
              "        buttonEl.style.display =\n",
              "          google.colab.kernel.accessAllowed ? 'block' : 'none';\n",
              "\n",
              "        async function convertToInteractive(key) {\n",
              "          const element = document.querySelector('#df-682dbc20-2974-4240-9f41-469a5c66b144');\n",
              "          const dataTable =\n",
              "            await google.colab.kernel.invokeFunction('convertToInteractive',\n",
              "                                                     [key], {});\n",
              "          if (!dataTable) return;\n",
              "\n",
              "          const docLinkHtml = 'Like what you see? Visit the ' +\n",
              "            '<a target=\"_blank\" href=https://colab.research.google.com/notebooks/data_table.ipynb>data table notebook</a>'\n",
              "            + ' to learn more about interactive tables.';\n",
              "          element.innerHTML = '';\n",
              "          dataTable['output_type'] = 'display_data';\n",
              "          await google.colab.output.renderOutput(dataTable, element);\n",
              "          const docLink = document.createElement('div');\n",
              "          docLink.innerHTML = docLinkHtml;\n",
              "          element.appendChild(docLink);\n",
              "        }\n",
              "      </script>\n",
              "    </div>\n",
              "  </div>\n",
              "  "
            ],
            "text/plain": [
              "                                                                                                                                                                                                                                                                                                                                                                                                                                                                                                                                                                                                               Description  \\\n",
              "0  KeePass Password Safe is a free, open source, lightweight, and easy-to-use password manager for Windows, Linux and Mac OS X, with ports for Android, iPhone/iPad and other mobile devices. With so many passwords to remember and the need to vary passwords to protect your valuable data, it’s nice to have KeePass to manage your passwords in a secure way. KeePass puts all your passwords in a highly encrypted database and locks them with one master key or a key file. As a result, you only have to remember one single master password or select the key file to unlock the whole database. And the data...   \n",
              "1                                                                                                                                                                                                                                       XAMPP is a very easy to install Apache Distribution for Linux, Solaris, Windows, and Mac OS X. The package includes the Apache web server, MySQL, PHP, Perl, a FTP server and phpMyAdmin.XAMPP is a very easy to install Apache Distribution for Linux, Solaris, Windows, and Mac OS X. The package includes the Apache web server, MySQL, PHP, Perl, a FTP server and phpMyAdmin.   \n",
              "2                                                                                                                                                     Technical analysis library with indicators like ADX, MACD, RSI, Stochastic, TRIX... includes also candlestick pattern recognition. Useful for trading application developpers using either Excel, .NET, Mono, Java, Perl or C/C++.Technical analysis library with indicators like ADX, MACD, RSI, Stochastic, TRIX... includes also candlestick pattern recognition. Useful for trading application developpers using either Excel, .NET, Mono, Java, Perl or C/C++.   \n",
              "3                                                                                                                                                                                                                                                                                                                                                                                                                                                   AppServ is an merging open source software installer package for Windows and Linux.AppServ is an merging open source software installer package for Windows and Linux.   \n",
              "4  LibreOffice is a free and powerful office suite, and a successor to OpenOffice. Its clean interface and feature-rich tools help you unleash your creativity and enhance your productivity.\\n\\nLibreOffice is Free and Open Source Software (FOSS) – development is open to new talent and new ideas, and our software is tested and used daily by a large and devoted user community. Your documents will look professional and clean, regardless of their purpose: a letter, a master thesis, a brochure, financial reports, marketing presentations, technical drawings and diagrams. LibreOffice makes your work ...   \n",
              "\n",
              "                                                                                  Category  \n",
              "0  Office/Business, Database, Security, Desktop Environment, Internet, Password Generators  \n",
              "1                 Database Engines/Servers, Dynamic Content, Site Management, HTTP Servers  \n",
              "2         Investment Management, Spreadsheet, Front-Ends, Algorithms, Information Analysis  \n",
              "3                                  Database Engines/Servers, Site Management, HTTP Servers  \n",
              "4                                               Word Processors, Office Suites, Front-Ends  "
            ]
          },
          "execution_count": 8,
          "metadata": {},
          "output_type": "execute_result"
        }
      ],
      "source": [
        "data.head()"
      ]
    },
    {
      "cell_type": "markdown",
      "metadata": {
        "id": "h8FwK0ex5l1l"
      },
      "source": [
        "## Findings Important categories and convert into numerical categories."
      ]
    },
    {
      "cell_type": "code",
      "execution_count": 9,
      "metadata": {
        "id": "ulen4WpyQruC"
      },
      "outputs": [],
      "source": [
        "table = {}\n",
        "for val in data['Category'].values.tolist():\n",
        "  for i in val.split(', '):\n",
        "    if i in table.keys():\n",
        "      table[i] += 1\n",
        "    else:\n",
        "      table[i] = 1"
      ]
    },
    {
      "cell_type": "code",
      "execution_count": 10,
      "metadata": {
        "colab": {
          "base_uri": "https://localhost:8080/"
        },
        "id": "HGchWFoQQ9cl",
        "outputId": "6d34dc2f-30c5-4214-9d1f-ff568f9b6722"
      },
      "outputs": [
        {
          "data": {
            "text/plain": [
              "{'Office/Business': 904,\n",
              " 'Database': 1252,\n",
              " 'Security': 1636,\n",
              " 'Desktop Environment': 1412,\n",
              " 'Internet': 1158,\n",
              " 'Password Generators': 108,\n",
              " 'Database Engines/Servers': 398,\n",
              " 'Dynamic Content': 1186,\n",
              " 'Site Management': 576,\n",
              " 'HTTP Servers': 258,\n",
              " 'Investment Management': 70,\n",
              " 'Spreadsheet': 72,\n",
              " 'Front-Ends': 1092,\n",
              " 'Algorithms': 222,\n",
              " 'Information Analysis': 392,\n",
              " 'Word Processors': 332,\n",
              " 'Office Suites': 280,\n",
              " 'SQL Clients': 30,\n",
              " 'Database Clients': 26,\n",
              " 'Search Engines': 302,\n",
              " 'Frameworks': 790,\n",
              " 'Scientific/Engineering': 572,\n",
              " 'Object-Relational Mapping (ORM)': 48,\n",
              " 'Intelligent Agents': 98,\n",
              " 'Web Development': 38,\n",
              " 'Board Games': 190,\n",
              " 'Turn Based Strategy': 188,\n",
              " 'Performance Testing': 22,\n",
              " 'Load Balancers': 44,\n",
              " 'LDAP': 54,\n",
              " 'Libraries': 642,\n",
              " 'Penetration Testing': 88,\n",
              " 'Data Formats': 998,\n",
              " 'Systems Administration': 760,\n",
              " 'Bio-Informatics': 296,\n",
              " 'Medical': 222,\n",
              " 'Pharmacy': 30,\n",
              " 'Software Development': 1718,\n",
              " 'Software Testing': 262,\n",
              " 'Enterprise': 428,\n",
              " 'File Sync': 104,\n",
              " 'HTML/XHTML': 362,\n",
              " 'AJAX': 108,\n",
              " 'IT Subnet Calculators': 16,\n",
              " 'WWW/HTTP': 716,\n",
              " 'Build Tools': 344,\n",
              " 'Printing': 1674,\n",
              " 'Application Servers': 68,\n",
              " 'Collaborative Development': 42,\n",
              " 'MARC and Book/Library Metadata': 54,\n",
              " 'Cataloguing': 80,\n",
              " 'Mobile': 1908,\n",
              " 'Email Spam Filter': 102,\n",
              " 'Mail Transfer Agents': 54,\n",
              " 'Data Warehousing': 90,\n",
              " 'GIS': 214,\n",
              " 'Clustering': 84,\n",
              " '3D Rendering': 306,\n",
              " 'Image Viewers': 406,\n",
              " 'Games/Entertainment': 928,\n",
              " 'Multimedia': 318,\n",
              " 'Compilers': 288,\n",
              " 'CSV': 78,\n",
              " 'QA Automation': 126,\n",
              " 'XML': 738,\n",
              " 'UML': 114,\n",
              " 'Code Generators': 358,\n",
              " 'Computer-Aided Software Engineering (CASE)': 42,\n",
              " 'Design': 122,\n",
              " 'User Interface (UI)': 470,\n",
              " 'Distributed Computing': 178,\n",
              " 'Card Games': 82,\n",
              " 'Artificial Intelligence': 324,\n",
              " 'Email': 356,\n",
              " 'File Transfer Protocol (FTP)': 198,\n",
              " 'Interpreters': 252,\n",
              " 'Email Servers': 82,\n",
              " 'Semantic Web': 82,\n",
              " 'ETL': 24,\n",
              " 'Accounting': 136,\n",
              " 'Point of Sale (POS)': 160,\n",
              " 'Scheduling': 238,\n",
              " 'Message Board': 156,\n",
              " 'CGI Scripts': 242,\n",
              " 'Backup': 172,\n",
              " 'File Managers': 314,\n",
              " 'FTP Clients': 58,\n",
              " 'Other/Nonlisted Topic': 2208,\n",
              " 'Log Analysis': 104,\n",
              " 'Photo Management': 92,\n",
              " 'Social Networking': 138,\n",
              " 'Library': 274,\n",
              " 'HMI': 264,\n",
              " 'Unit Testing': 22,\n",
              " 'Education': 1656,\n",
              " 'Archiving': 162,\n",
              " 'Debuggers': 172,\n",
              " 'Profiling': 32,\n",
              " 'Logging': 284,\n",
              " 'Knowledge Management': 146,\n",
              " 'Password Recovery': 16,\n",
              " 'Usability': 88,\n",
              " 'File Systems': 228,\n",
              " 'eCommerce': 96,\n",
              " 'Grocery List': 20,\n",
              " 'Diff Tools': 16,\n",
              " 'Genealogy': 338,\n",
              " 'Communications': 1162,\n",
              " 'Software Distribution': 186,\n",
              " 'SCADA': 86,\n",
              " 'Languages': 260,\n",
              " 'Dictionary': 148,\n",
              " 'Business Performance Management': 44,\n",
              " 'Business Continuity': 6,\n",
              " 'Configuration Management Database (CMDB)': 26,\n",
              " 'Version Control': 76,\n",
              " 'Embedded Systems': 114,\n",
              " 'Integrated Development Environments (IDE)': 626,\n",
              " 'OLAP': 14,\n",
              " 'Business Intelligence': 96,\n",
              " 'Cryptography': 814,\n",
              " 'Benchmark': 76,\n",
              " 'To-Do Lists': 232,\n",
              " 'Documentation': 262,\n",
              " 'Object Oriented': 140,\n",
              " 'Gnutella': 26,\n",
              " 'Hospital Management': 24,\n",
              " 'Storage': 84,\n",
              " 'Data Visualization': 686,\n",
              " 'Statistics': 72,\n",
              " 'Report Generators': 88,\n",
              " 'Data Science': 8,\n",
              " 'Search': 114,\n",
              " 'Command Line Tools': 146,\n",
              " 'OCR': 164,\n",
              " 'Sociology': 608,\n",
              " 'ERP': 156,\n",
              " 'Billing': 36,\n",
              " 'Human Resources': 50,\n",
              " 'GPS': 100,\n",
              " 'Video': 240,\n",
              " 'Emulators': 244,\n",
              " 'Object Brokering': 48,\n",
              " 'Multiplayer': 162,\n",
              " 'Sports Games': 92,\n",
              " 'Password Managers': 224,\n",
              " 'Linguistics': 90,\n",
              " 'Financial': 124,\n",
              " 'Computer Aided Instruction (CAI)': 368,\n",
              " 'School Management': 172,\n",
              " 'File Sharing': 526,\n",
              " 'Project Management': 256,\n",
              " 'System Shells': 234,\n",
              " 'Screen Savers': 88,\n",
              " 'Players': 182,\n",
              " 'Audio Recording': 92,\n",
              " 'XML-RPC': 56,\n",
              " 'Web Services': 212,\n",
              " 'JSON': 104,\n",
              " 'XMPP': 42,\n",
              " 'Collection Management': 42,\n",
              " 'Research': 174,\n",
              " 'System': 322,\n",
              " 'Hardware': 266,\n",
              " 'Networking': 678,\n",
              " 'Text Editors': 778,\n",
              " 'Streaming': 228,\n",
              " 'Capture': 32,\n",
              " 'Page Counters': 8,\n",
              " 'DNS': 48,\n",
              " 'Internationalization (I18N)': 84,\n",
              " 'Religion and Philosophy': 2264,\n",
              " 'Presentation': 328,\n",
              " 'Inventory Management': 24,\n",
              " 'CRUD Generators': 4,\n",
              " 'Browsers': 332,\n",
              " 'MMORPG': 108,\n",
              " 'Content Management Systems (CMS)': 262,\n",
              " 'Digital Preservation': 74,\n",
              " 'Business Service Management': 20,\n",
              " 'Text Processing': 914,\n",
              " 'GNOME': 552,\n",
              " 'Puzzle Games': 176,\n",
              " 'Earth Sciences': 94,\n",
              " 'Groupware': 18,\n",
              " 'Medical Physics': 14,\n",
              " 'Molecular Science': 52,\n",
              " 'DevOps': 6,\n",
              " 'Deployment': 2,\n",
              " 'Chemistry': 80,\n",
              " 'Test and Measurement': 130,\n",
              " 'Personal Finance': 36,\n",
              " 'Monitoring': 426,\n",
              " 'Wiki': 80,\n",
              " 'Data Analytics': 60,\n",
              " 'AOL Instant Messenger': 26,\n",
              " 'IRC Clients': 104,\n",
              " 'ICQ': 42,\n",
              " 'Mathematics': 550,\n",
              " 'Mainframe': 12,\n",
              " 'Virtual Machine': 80,\n",
              " 'Resource Management': 48,\n",
              " 'Chat': 382,\n",
              " 'Link Checking': 34,\n",
              " 'Blogging': 70,\n",
              " 'Conferencing': 116,\n",
              " 'Sound/Audio': 352,\n",
              " 'XML Parsers': 28,\n",
              " 'POP3': 42,\n",
              " 'IMAP': 26,\n",
              " 'Graphic Design': 130,\n",
              " 'CRM': 184,\n",
              " 'File Compression': 58,\n",
              " 'Mailing List Servers': 36,\n",
              " 'MP3': 76,\n",
              " 'Time Tracking': 176,\n",
              " 'Help Desk': 64,\n",
              " 'SOAP': 72,\n",
              " 'Role-Playing Games (RPG)': 254,\n",
              " 'Web Development Frameworks': 50,\n",
              " 'History': 270,\n",
              " 'Authentication/Directory': 60,\n",
              " 'Application Packaging': 26,\n",
              " 'Hash Calculators': 24,\n",
              " 'Graphics': 512,\n",
              " 'Email Clients': 138,\n",
              " 'RSS': 90,\n",
              " 'BBS': 158,\n",
              " 'Usenet News': 58,\n",
              " 'Firewall': 160,\n",
              " 'Admin Templates': 20,\n",
              " 'Installation/Setup': 180,\n",
              " 'Localization (L10N)': 58,\n",
              " 'Computer Aided Translation (CAT)': 38,\n",
              " 'Vi/Vim': 8,\n",
              " 'TEI': 20,\n",
              " 'TeX/LaTeX': 182,\n",
              " 'PDF': 128,\n",
              " 'PDF Splitters': 16,\n",
              " 'Duplicate File Finders': 6,\n",
              " 'Emacs': 62,\n",
              " 'OS distribution': 208,\n",
              " 'SSH': 66,\n",
              " 'Simulation': 382,\n",
              " 'Physics': 196,\n",
              " 'Agile Development Tools': 90,\n",
              " 'Git': 20,\n",
              " 'Hobbies': 136,\n",
              " 'Source Code Management': 40,\n",
              " 'Web Design': 18,\n",
              " 'Electronic Design Automation (EDA)': 138,\n",
              " 'Macros': 26,\n",
              " 'Non-Linear Editor': 30,\n",
              " 'Special Effects': 18,\n",
              " 'Mechanical and Civil Engineering': 32,\n",
              " 'PDF Readers': 64,\n",
              " 'Exam': 296,\n",
              " 'Speech': 94,\n",
              " 'Video Conferencing': 46,\n",
              " 'Machine Translation': 18,\n",
              " 'Source Code Analysis': 58,\n",
              " 'Data Recovery': 42,\n",
              " 'Calculators': 210,\n",
              " 'Hex Editors': 16,\n",
              " 'Desktop Publishing': 120,\n",
              " 'Auto Typer': 2,\n",
              " 'Audio Editing': 94,\n",
              " 'CVS': 14,\n",
              " 'Operating System Kernels': 264,\n",
              " 'Hardware Drivers': 256,\n",
              " 'Image Converters': 250,\n",
              " 'Photo Editors': 22,\n",
              " 'Speech Recognition': 26,\n",
              " 'Cloud Services': 20,\n",
              " 'MIDI': 134,\n",
              " 'Humanitarianism': 100,\n",
              " 'Terminal Emulators': 416,\n",
              " 'Encryption Algorithms': 64,\n",
              " 'Media Players': 128,\n",
              " 'DocBook': 42,\n",
              " 'CORBA': 4,\n",
              " 'Clipboard Managers': 38,\n",
              " 'Music Composition': 44,\n",
              " 'Terminals': 1052,\n",
              " 'Window Managers': 234,\n",
              " 'PDF Editors': 16,\n",
              " '3D Modeling': 162,\n",
              " 'Vector Graphics': 150,\n",
              " 'Cron and Job Scheduler': 20,\n",
              " 'Multi-User Dungeons (MUD)': 120,\n",
              " 'KDE': 276,\n",
              " 'Sound Synthesis': 110,\n",
              " 'Scanner': 70,\n",
              " 'Fonts': 60,\n",
              " 'Code Review': 20,\n",
              " 'Browser Extensions and Plugins': 88,\n",
              " 'Machine Learning': 98,\n",
              " 'Healthcare': 96,\n",
              " 'Simulation Games': 330,\n",
              " 'Astronomy': 168,\n",
              " 'Screen Capture': 76,\n",
              " 'OPAC': 12,\n",
              " 'eBook Readers': 18,\n",
              " 'Raster Graphics': 68,\n",
              " 'Learning Management Systems (LMS)': 50,\n",
              " '3D Printing': 24,\n",
              " 'Charting Libraries': 18,\n",
              " 'Task Managers': 26,\n",
              " 'Side-Scrolling': 122,\n",
              " 'Podcast': 18,\n",
              " 'Financial Calculators': 4,\n",
              " 'Live CD': 172,\n",
              " 'Graphing Calculators': 18,\n",
              " 'Robotics': 110,\n",
              " 'Digital Camera': 80,\n",
              " 'Telephony': 244,\n",
              " 'Data Modeling': 22,\n",
              " 'Game Development Frameworks': 114,\n",
              " 'Neural Network Libraries': 36,\n",
              " 'Cross Compilers': 40,\n",
              " 'Scientific Calculators': 20,\n",
              " 'Still Capture': 20,\n",
              " 'Realtime Processing': 50,\n",
              " 'Audio Analysis': 106,\n",
              " 'First Person Shooters': 160,\n",
              " 'Encryption': 64,\n",
              " 'Workflow Management': 88,\n",
              " 'Disk Cloning': 4,\n",
              " 'VPN': 90,\n",
              " 'Console Games': 78,\n",
              " 'Proxy Servers': 74,\n",
              " 'PostScript': 14,\n",
              " 'Whiteboard': 20,\n",
              " 'Business Process Management': 56,\n",
              " 'Hardware Monitoring': 10,\n",
              " 'Date Calculators': 8,\n",
              " 'Calendar': 166,\n",
              " 'Ham Radio': 86,\n",
              " 'Productivity': 92,\n",
              " 'Router': 28,\n",
              " 'RSS Feed Readers': 52,\n",
              " 'Animation': 56,\n",
              " 'Cryptocurrency': 18,\n",
              " 'Building Automation': 20,\n",
              " 'Voting': 80,\n",
              " 'Home Automation': 60,\n",
              " 'Algebra Calculators': 4,\n",
              " 'RPN Calculators': 26,\n",
              " 'Quantum Computing': 2,\n",
              " 'Psychology': 130,\n",
              " 'Symmetric Multiprocessing (SMP)': 18,\n",
              " 'Codec': 30,\n",
              " 'BitTorrent': 106,\n",
              " 'Genetic Algorithms': 32,\n",
              " 'Flight Simulator': 40,\n",
              " 'Internet Phone': 110,\n",
              " 'Real Time Strategy': 102,\n",
              " 'Boot': 60,\n",
              " 'Game Engines': 62,\n",
              " 'Real Time Tactical': 22,\n",
              " 'Minecraft Mods': 60,\n",
              " 'Telnet': 234,\n",
              " 'Home Theater PC': 104,\n",
              " 'Auto Clicker': 36,\n",
              " 'Roblox Mods': 24,\n",
              " 'Subversion': 22,\n",
              " 'VR Development': 14,\n",
              " 'Virtual Reality': 12,\n",
              " 'Java Game Engines': 4,\n",
              " 'Minecraft Servers': 4,\n",
              " 'Chatbot': 22,\n",
              " 'Cooking': 14,\n",
              " 'Fractal': 26,\n",
              " 'VoIP': 102,\n",
              " 'Minecraft Plugins': 6,\n",
              " 'Sandbox Games': 8,\n",
              " 'Metadata Editors': 22,\n",
              " 'Audio Conversion': 92,\n",
              " 'Ecosystem Sciences': 42,\n",
              " 'Game Mods': 6,\n",
              " 'ROMs': 84,\n",
              " 'Video Converters': 140,\n",
              " 'Minecraft Clients': 6,\n",
              " 'File Archivers': 12,\n",
              " 'New Age': 264,\n",
              " 'Politics': 92,\n",
              " 'KDE Themes': 28,\n",
              " 'Password Crackers': 18,\n",
              " 'Anti-Malware': 62,\n",
              " 'Vulnerability Scanners': 10,\n",
              " 'Wireless': 86,\n",
              " 'Serial': 316,\n",
              " 'YouTube Downloaders': 34,\n",
              " 'Download Managers': 76,\n",
              " 'Video Capture': 104,\n",
              " 'Email Marketing': 26,\n",
              " 'Document Management': 82,\n",
              " 'CD Ripping': 38,\n",
              " 'CD Burners': 16,\n",
              " 'Thermostat': 4,\n",
              " 'MQTT Brokers': 8,\n",
              " 'Remote Desktop': 72,\n",
              " 'Interface Engine/Protocol Translator': 126,\n",
              " 'Init': 16,\n",
              " 'Auto Mouse Movers': 4,\n",
              " 'Antivirus': 56,\n",
              " 'Anti-Spam': 46,\n",
              " 'SFTP Clients': 22,\n",
              " 'Product Lifecycle Management (PLM)': 12,\n",
              " 'Weather': 20,\n",
              " 'Weather Station': 14,\n",
              " 'CD Audio': 22,\n",
              " 'Macro Recorders': 4,\n",
              " 'Battery Monitoring': 18,\n",
              " 'Messaging': 82,\n",
              " 'Social Bookmarking': 10,\n",
              " 'Source Code Control System (SCCS)': 2,\n",
              " 'CI/CD': 6,\n",
              " 'Test Management': 8,\n",
              " 'AR Development': 6,\n",
              " 'Augmented Reality': 12,\n",
              " 'Test Frameworks': 12,\n",
              " 'Automated Testing': 18,\n",
              " 'Load Testing': 12,\n",
              " 'Assemblers': 18,\n",
              " 'Enlightenment Themes': 16,\n",
              " 'Electronic Health Record (EHR)': 22,\n",
              " 'Thumbnail Makers': 10,\n",
              " 'Handwriting Recognition': 10,\n",
              " 'MSN Messenger': 32,\n",
              " 'Cheat Engines': 2,\n",
              " 'Mapping': 48,\n",
              " 'Screen Recorders': 16,\n",
              " 'DVD': 28,\n",
              " 'Cloud Storage': 14,\n",
              " 'Clinic Management': 20,\n",
              " 'Computer-aided technologies (CADD/CAM/CAE)': 52,\n",
              " 'WAP': 26,\n",
              " 'Other file transfer protocol': 44,\n",
              " 'Image Recognition': 2,\n",
              " 'Shopping Carts': 22,\n",
              " 'IoT': 12,\n",
              " 'Video Downloaders': 22,\n",
              " 'Formats and Protocols': 2,\n",
              " 'Professional Services Automation': 28,\n",
              " 'Sales': 38,\n",
              " 'PBX': 50,\n",
              " 'Customer Service': 38,\n",
              " 'Medical Billing': 8,\n",
              " 'Budgeting': 24,\n",
              " 'Bitcoin': 10,\n",
              " 'Blockchain': 4,\n",
              " 'PDF Merge': 24,\n",
              " 'Marketing Automation': 4,\n",
              " 'eBook Management': 6,\n",
              " 'Warehouse Management': 18,\n",
              " 'Tax Calculators': 2,\n",
              " 'Fax': 38,\n",
              " 'Membership Management': 2,\n",
              " 'Insurance': 2,\n",
              " 'Service Assurance': 4,\n",
              " 'Logistics': 4,\n",
              " 'Time Calculators': 6,\n",
              " 'SGML': 8,\n",
              " 'Log Rotation': 4,\n",
              " 'Enlightenment': 18,\n",
              " 'MQTT Clients': 2,\n",
              " 'Package Managers': 4,\n",
              " 'Direct Connect': 20,\n",
              " 'NIS': 2,\n",
              " 'Unix Talk': 6,\n",
              " 'Finger': 2,\n",
              " 'SIEM': 10,\n",
              " 'Audio Mixers': 28,\n",
              " 'Post-Office': 10,\n",
              " 'SIP Servers': 6,\n",
              " 'Softphones': 14,\n",
              " 'NNTP': 18,\n",
              " 'FIDO': 18,\n",
              " 'LAN Messengers': 4,\n",
              " 'Web Conferencing': 16,\n",
              " 'Icon Sets': 8,\n",
              " 'DVD Burners': 10,\n",
              " 'CD Playing': 10,\n",
              " 'DVD Rippers': 4,\n",
              " 'CAD': 18,\n",
              " 'API Gateways': 2,\n",
              " 'Cybersecurity': 10,\n",
              " 'Subtitle Editors': 2,\n",
              " 'Video Editing': 4,\n",
              " 'Digital Audio Workstations (DAW)': 2,\n",
              " 'OSINT': 6,\n",
              " 'Unattended': 8,\n",
              " 'Fitness Trackers': 22,\n",
              " 'BMI Calculators': 4,\n",
              " 'Computational Fluid Dynamics (CFD)': 10,\n",
              " 'Molecular Mechanics': 6,\n",
              " 'Autonomous Driving': 2,\n",
              " 'TV Remotes': 2,\n",
              " 'Disk Imaging': 2}"
            ]
          },
          "execution_count": 10,
          "metadata": {},
          "output_type": "execute_result"
        }
      ],
      "source": [
        "table"
      ]
    },
    {
      "cell_type": "code",
      "execution_count": 11,
      "metadata": {
        "colab": {
          "base_uri": "https://localhost:8080/"
        },
        "id": "9CfydVilUb7c",
        "outputId": "77ce7908-7f1c-4c6e-d3d1-63d3439346f2"
      },
      "outputs": [
        {
          "data": {
            "text/plain": [
              "500"
            ]
          },
          "execution_count": 11,
          "metadata": {},
          "output_type": "execute_result"
        }
      ],
      "source": [
        "(len(table))"
      ]
    },
    {
      "cell_type": "code",
      "execution_count": 13,
      "metadata": {
        "id": "r0380WxF_lxZ"
      },
      "outputs": [],
      "source": [
        "labels = list(table.keys())\n",
        "counts = list(table.values())"
      ]
    },
    {
      "cell_type": "code",
      "execution_count": 14,
      "metadata": {
        "id": "oUeUq7eq_vxs"
      },
      "outputs": [],
      "source": [
        "import matplotlib.pyplot as plt\n",
        "import seaborn as sns"
      ]
    },
    {
      "cell_type": "code",
      "execution_count": 24,
      "metadata": {
        "colab": {
          "base_uri": "https://localhost:8080/",
          "height": 320
        },
        "id": "fufAgM97_3ph",
        "outputId": "17b87b4a-ea79-4196-857e-38a6f92e3fdf"
      },
      "outputs": [
        {
          "name": "stderr",
          "output_type": "stream",
          "text": [
            "/usr/local/lib/python3.8/dist-packages/seaborn/_decorators.py:36: FutureWarning: Pass the following variable as a keyword arg: x. From version 0.12, the only valid positional argument will be `data`, and passing other arguments without an explicit keyword will result in an error or misinterpretation.\n",
            "  warnings.warn(\n"
          ]
        },
        {
          "data": {
            "image/png": "[encoded data removed]",
            "text/plain": [
              "<Figure size 432x288 with 1 Axes>"
            ]
          },
          "metadata": {
            "needs_background": "light"
          },
          "output_type": "display_data"
        }
      ],
      "source": [
        "sns.boxplot(counts)\n",
        "plt.show()"
      ]
    },
    {
      "cell_type": "code",
      "execution_count": 25,
      "metadata": {
        "id": "ushkuMPGQ9OT"
      },
      "outputs": [],
      "source": [
        "another_table={}\n",
        "for i in table.items():\n",
        "  if i[1] > 20:\n",
        "    another_table[i[0]] = i[1]"
      ]
    },
    {
      "cell_type": "code",
      "execution_count": 26,
      "metadata": {
        "colab": {
          "base_uri": "https://localhost:8080/"
        },
        "id": "NO57UtzrQ9Kt",
        "outputId": "a4fcaa79-c770-441e-f6ff-60d07413ac76"
      },
      "outputs": [
        {
          "data": {
            "text/plain": [
              "361"
            ]
          },
          "execution_count": 26,
          "metadata": {},
          "output_type": "execute_result"
        }
      ],
      "source": [
        "len(another_table)"
      ]
    },
    {
      "cell_type": "code",
      "execution_count": 27,
      "metadata": {
        "id": "ZDZUhlTxQ9Fo"
      },
      "outputs": [],
      "source": [
        "cat_list = list(another_table.keys())\n",
        "# cat_list"
      ]
    },
    {
      "cell_type": "code",
      "execution_count": 28,
      "metadata": {
        "id": "mQN0HiUZsxqc"
      },
      "outputs": [],
      "source": [
        "import json\n",
        "with open('/content/drive/MyDrive/nlp/app/data.json', 'w') as f:\n",
        "    json.dump(cat_list, f)"
      ]
    },
    {
      "cell_type": "code",
      "execution_count": 29,
      "metadata": {
        "id": "m58Fu5CgcqJH"
      },
      "outputs": [],
      "source": [
        "def selected(x):\n",
        "  cat =[]\n",
        "  for i in x.split(', '):\n",
        "    if i in cat_list:\n",
        "      cat.append(i)\n",
        "  return cat"
      ]
    },
    {
      "cell_type": "code",
      "execution_count": 30,
      "metadata": {
        "id": "_cGuY-OZQ9DW"
      },
      "outputs": [],
      "source": [
        "data['selected_categories'] = data['Category'].apply(lambda x: selected(x))"
      ]
    },
    {
      "cell_type": "code",
      "execution_count": 31,
      "metadata": {
        "colab": {
          "base_uri": "https://localhost:8080/",
          "height": 493
        },
        "id": "0SZtc_gNQ9Ak",
        "outputId": "2c4bfeca-79c9-4d02-dfe5-1c2f5bf36b1d"
      },
      "outputs": [
        {
          "data": {
            "text/html": [
              "\n",
              "  <div id=\"df-0cb685d4-854e-4e8f-9afd-d779eff9b308\">\n",
              "    <div class=\"colab-df-container\">\n",
              "      <div>\n",
              "<style scoped>\n",
              "    .dataframe tbody tr th:only-of-type {\n",
              "        vertical-align: middle;\n",
              "    }\n",
              "\n",
              "    .dataframe tbody tr th {\n",
              "        vertical-align: top;\n",
              "    }\n",
              "\n",
              "    .dataframe thead th {\n",
              "        text-align: right;\n",
              "    }\n",
              "</style>\n",
              "<table border=\"1\" class=\"dataframe\">\n",
              "  <thead>\n",
              "    <tr style=\"text-align: right;\">\n",
              "      <th></th>\n",
              "      <th>Description</th>\n",
              "      <th>Category</th>\n",
              "      <th>selected_categories</th>\n",
              "    </tr>\n",
              "  </thead>\n",
              "  <tbody>\n",
              "    <tr>\n",
              "      <th>0</th>\n",
              "      <td>KeePass Password Safe is a free, open source, lightweight, and easy-to-use password manager for Windows, Linux and Mac OS X, with ports for Android, iPhone/iPad and other mobile devices. With so many passwords to remember and the need to vary passwords to protect your valuable data, it’s nice to have KeePass to manage your passwords in a secure way. KeePass puts all your passwords in a highly encrypted database and locks them with one master key or a key file. As a result, you only have to remember one single master password or select the key file to unlock the whole database. And the data...</td>\n",
              "      <td>Office/Business, Database, Security, Desktop Environment, Internet, Password Generators</td>\n",
              "      <td>[Office/Business, Database, Security, Desktop Environment, Internet, Password Generators]</td>\n",
              "    </tr>\n",
              "    <tr>\n",
              "      <th>1</th>\n",
              "      <td>XAMPP is a very easy to install Apache Distribution for Linux, Solaris, Windows, and Mac OS X. The package includes the Apache web server, MySQL, PHP, Perl, a FTP server and phpMyAdmin.XAMPP is a very easy to install Apache Distribution for Linux, Solaris, Windows, and Mac OS X. The package includes the Apache web server, MySQL, PHP, Perl, a FTP server and phpMyAdmin.</td>\n",
              "      <td>Database Engines/Servers, Dynamic Content, Site Management, HTTP Servers</td>\n",
              "      <td>[Database Engines/Servers, Dynamic Content, Site Management, HTTP Servers]</td>\n",
              "    </tr>\n",
              "    <tr>\n",
              "      <th>2</th>\n",
              "      <td>Technical analysis library with indicators like ADX, MACD, RSI, Stochastic, TRIX... includes also candlestick pattern recognition. Useful for trading application developpers using either Excel, .NET, Mono, Java, Perl or C/C++.Technical analysis library with indicators like ADX, MACD, RSI, Stochastic, TRIX... includes also candlestick pattern recognition. Useful for trading application developpers using either Excel, .NET, Mono, Java, Perl or C/C++.</td>\n",
              "      <td>Investment Management, Spreadsheet, Front-Ends, Algorithms, Information Analysis</td>\n",
              "      <td>[Investment Management, Spreadsheet, Front-Ends, Algorithms, Information Analysis]</td>\n",
              "    </tr>\n",
              "    <tr>\n",
              "      <th>3</th>\n",
              "      <td>AppServ is an merging open source software installer package for Windows and Linux.AppServ is an merging open source software installer package for Windows and Linux.</td>\n",
              "      <td>Database Engines/Servers, Site Management, HTTP Servers</td>\n",
              "      <td>[Database Engines/Servers, Site Management, HTTP Servers]</td>\n",
              "    </tr>\n",
              "    <tr>\n",
              "      <th>4</th>\n",
              "      <td>LibreOffice is a free and powerful office suite, and a successor to OpenOffice. Its clean interface and feature-rich tools help you unleash your creativity and enhance your productivity.\\n\\nLibreOffice is Free and Open Source Software (FOSS) – development is open to new talent and new ideas, and our software is tested and used daily by a large and devoted user community. Your documents will look professional and clean, regardless of their purpose: a letter, a master thesis, a brochure, financial reports, marketing presentations, technical drawings and diagrams. LibreOffice makes your work ...</td>\n",
              "      <td>Word Processors, Office Suites, Front-Ends</td>\n",
              "      <td>[Word Processors, Office Suites, Front-Ends]</td>\n",
              "    </tr>\n",
              "  </tbody>\n",
              "</table>\n",
              "</div>\n",
              "      <button class=\"colab-df-convert\" onclick=\"convertToInteractive('df-0cb685d4-854e-4e8f-9afd-d779eff9b308')\"\n",
              "              title=\"Convert this dataframe to an interactive table.\"\n",
              "              style=\"display:none;\">\n",
              "        \n",
              "  <svg xmlns=\"http://www.w3.org/2000/svg\" height=\"24px\"viewBox=\"0 0 24 24\"\n",
              "       width=\"24px\">\n",
              "    <path d=\"M0 0h24v24H0V0z\" fill=\"none\"/>\n",
              "    <path d=\"M18.56 5.44l.94 2.06.94-2.06 2.06-.94-2.06-.94-.94-2.06-.94 2.06-2.06.94zm-11 1L8.5 8.5l.94-2.06 2.06-.94-2.06-.94L8.5 2.5l-.94 2.06-2.06.94zm10 10l.94 2.06.94-2.06 2.06-.94-2.06-.94-.94-2.06-.94 2.06-2.06.94z\"/><path d=\"M17.41 7.96l-1.37-1.37c-.4-.4-.92-.59-1.43-.59-.52 0-1.04.2-1.43.59L10.3 9.45l-7.72 7.72c-.78.78-.78 2.05 0 2.83L4 21.41c.39.39.9.59 1.41.59.51 0 1.02-.2 1.41-.59l7.78-7.78 2.81-2.81c.8-.78.8-2.07 0-2.86zM5.41 20L4 18.59l7.72-7.72 1.47 1.35L5.41 20z\"/>\n",
              "  </svg>\n",
              "      </button>\n",
              "      \n",
              "  <style>\n",
              "    .colab-df-container {\n",
              "      display:flex;\n",
              "      flex-wrap:wrap;\n",
              "      gap: 12px;\n",
              "    }\n",
              "\n",
              "    .colab-df-convert {\n",
              "      background-color: #E8F0FE;\n",
              "      border: none;\n",
              "      border-radius: 50%;\n",
              "      cursor: pointer;\n",
              "      display: none;\n",
              "      fill: #1967D2;\n",
              "      height: 32px;\n",
              "      padding: 0 0 0 0;\n",
              "      width: 32px;\n",
              "    }\n",
              "\n",
              "    .colab-df-convert:hover {\n",
              "      background-color: #E2EBFA;\n",
              "      box-shadow: 0px 1px 2px rgba(60, 64, 67, 0.3), 0px 1px 3px 1px rgba(60, 64, 67, 0.15);\n",
              "      fill: #174EA6;\n",
              "    }\n",
              "\n",
              "    [theme=dark] .colab-df-convert {\n",
              "      background-color: #3B4455;\n",
              "      fill: #D2E3FC;\n",
              "    }\n",
              "\n",
              "    [theme=dark] .colab-df-convert:hover {\n",
              "      background-color: #434B5C;\n",
              "      box-shadow: 0px 1px 3px 1px rgba(0, 0, 0, 0.15);\n",
              "      filter: drop-shadow(0px 1px 2px rgba(0, 0, 0, 0.3));\n",
              "      fill: #FFFFFF;\n",
              "    }\n",
              "  </style>\n",
              "\n",
              "      <script>\n",
              "        const buttonEl =\n",
              "          document.querySelector('#df-0cb685d4-854e-4e8f-9afd-d779eff9b308 button.colab-df-convert');\n",
              "        buttonEl.style.display =\n",
              "          google.colab.kernel.accessAllowed ? 'block' : 'none';\n",
              "\n",
              "        async function convertToInteractive(key) {\n",
              "          const element = document.querySelector('#df-0cb685d4-854e-4e8f-9afd-d779eff9b308');\n",
              "          const dataTable =\n",
              "            await google.colab.kernel.invokeFunction('convertToInteractive',\n",
              "                                                     [key], {});\n",
              "          if (!dataTable) return;\n",
              "\n",
              "          const docLinkHtml = 'Like what you see? Visit the ' +\n",
              "            '<a target=\"_blank\" href=https://colab.research.google.com/notebooks/data_table.ipynb>data table notebook</a>'\n",
              "            + ' to learn more about interactive tables.';\n",
              "          element.innerHTML = '';\n",
              "          dataTable['output_type'] = 'display_data';\n",
              "          await google.colab.output.renderOutput(dataTable, element);\n",
              "          const docLink = document.createElement('div');\n",
              "          docLink.innerHTML = docLinkHtml;\n",
              "          element.appendChild(docLink);\n",
              "        }\n",
              "      </script>\n",
              "    </div>\n",
              "  </div>\n",
              "  "
            ],
            "text/plain": [
              "                                                                                                                                                                                                                                                                                                                                                                                                                                                                                                                                                                                                               Description  \\\n",
              "0  KeePass Password Safe is a free, open source, lightweight, and easy-to-use password manager for Windows, Linux and Mac OS X, with ports for Android, iPhone/iPad and other mobile devices. With so many passwords to remember and the need to vary passwords to protect your valuable data, it’s nice to have KeePass to manage your passwords in a secure way. KeePass puts all your passwords in a highly encrypted database and locks them with one master key or a key file. As a result, you only have to remember one single master password or select the key file to unlock the whole database. And the data...   \n",
              "1                                                                                                                                                                                                                                       XAMPP is a very easy to install Apache Distribution for Linux, Solaris, Windows, and Mac OS X. The package includes the Apache web server, MySQL, PHP, Perl, a FTP server and phpMyAdmin.XAMPP is a very easy to install Apache Distribution for Linux, Solaris, Windows, and Mac OS X. The package includes the Apache web server, MySQL, PHP, Perl, a FTP server and phpMyAdmin.   \n",
              "2                                                                                                                                                     Technical analysis library with indicators like ADX, MACD, RSI, Stochastic, TRIX... includes also candlestick pattern recognition. Useful for trading application developpers using either Excel, .NET, Mono, Java, Perl or C/C++.Technical analysis library with indicators like ADX, MACD, RSI, Stochastic, TRIX... includes also candlestick pattern recognition. Useful for trading application developpers using either Excel, .NET, Mono, Java, Perl or C/C++.   \n",
              "3                                                                                                                                                                                                                                                                                                                                                                                                                                                   AppServ is an merging open source software installer package for Windows and Linux.AppServ is an merging open source software installer package for Windows and Linux.   \n",
              "4  LibreOffice is a free and powerful office suite, and a successor to OpenOffice. Its clean interface and feature-rich tools help you unleash your creativity and enhance your productivity.\\n\\nLibreOffice is Free and Open Source Software (FOSS) – development is open to new talent and new ideas, and our software is tested and used daily by a large and devoted user community. Your documents will look professional and clean, regardless of their purpose: a letter, a master thesis, a brochure, financial reports, marketing presentations, technical drawings and diagrams. LibreOffice makes your work ...   \n",
              "\n",
              "                                                                                  Category  \\\n",
              "0  Office/Business, Database, Security, Desktop Environment, Internet, Password Generators   \n",
              "1                 Database Engines/Servers, Dynamic Content, Site Management, HTTP Servers   \n",
              "2         Investment Management, Spreadsheet, Front-Ends, Algorithms, Information Analysis   \n",
              "3                                  Database Engines/Servers, Site Management, HTTP Servers   \n",
              "4                                               Word Processors, Office Suites, Front-Ends   \n",
              "\n",
              "                                                                         selected_categories  \n",
              "0  [Office/Business, Database, Security, Desktop Environment, Internet, Password Generators]  \n",
              "1                 [Database Engines/Servers, Dynamic Content, Site Management, HTTP Servers]  \n",
              "2         [Investment Management, Spreadsheet, Front-Ends, Algorithms, Information Analysis]  \n",
              "3                                  [Database Engines/Servers, Site Management, HTTP Servers]  \n",
              "4                                               [Word Processors, Office Suites, Front-Ends]  "
            ]
          },
          "execution_count": 31,
          "metadata": {},
          "output_type": "execute_result"
        }
      ],
      "source": [
        "data.head()"
      ]
    },
    {
      "cell_type": "code",
      "execution_count": 32,
      "metadata": {
        "id": "DoYxmuNuQ89r"
      },
      "outputs": [],
      "source": [
        "def label(x):\n",
        "  cat_label = [0]*len(cat_list)\n",
        "  for i in x:\n",
        "    ind = cat_list.index(i)\n",
        "    cat_label[ind] = 1\n",
        "\n",
        "  return cat_label"
      ]
    },
    {
      "cell_type": "code",
      "execution_count": 33,
      "metadata": {
        "id": "g5WmbYoJQ860"
      },
      "outputs": [],
      "source": [
        "data['cat_label']  = data['selected_categories'].apply(lambda x: label(x))"
      ]
    },
    {
      "cell_type": "code",
      "execution_count": 34,
      "metadata": {
        "colab": {
          "base_uri": "https://localhost:8080/"
        },
        "id": "M74qvjVFQ83-",
        "outputId": "8e1bf960-1609-4fb1-c0b7-1700c14a094a"
      },
      "outputs": [
        {
          "data": {
            "text/plain": [
              "361"
            ]
          },
          "execution_count": 34,
          "metadata": {},
          "output_type": "execute_result"
        }
      ],
      "source": [
        "len(cat_list)"
      ]
    },
    {
      "cell_type": "code",
      "execution_count": 35,
      "metadata": {
        "id": "LTS7WJ2vQ81f"
      },
      "outputs": [],
      "source": [
        "data['len'] = data['selected_categories'].apply(lambda x: len(x))\n"
      ]
    },
    {
      "cell_type": "code",
      "execution_count": 36,
      "metadata": {
        "colab": {
          "base_uri": "https://localhost:8080/",
          "height": 1000
        },
        "id": "4bn584GfQ8wB",
        "outputId": "3d934a16-5f4f-4e69-c1d4-b528c7686949"
      },
      "outputs": [
        {
          "data": {
            "text/html": [
              "\n",
              "  <div id=\"df-b4e09928-3d0e-4bd5-9bf7-9f14a3c96735\">\n",
              "    <div class=\"colab-df-container\">\n",
              "      <div>\n",
              "<style scoped>\n",
              "    .dataframe tbody tr th:only-of-type {\n",
              "        vertical-align: middle;\n",
              "    }\n",
              "\n",
              "    .dataframe tbody tr th {\n",
              "        vertical-align: top;\n",
              "    }\n",
              "\n",
              "    .dataframe thead th {\n",
              "        text-align: right;\n",
              "    }\n",
              "</style>\n",
              "<table border=\"1\" class=\"dataframe\">\n",
              "  <thead>\n",
              "    <tr style=\"text-align: right;\">\n",
              "      <th></th>\n",
              "      <th>Description</th>\n",
              "      <th>Category</th>\n",
              "      <th>selected_categories</th>\n",
              "      <th>cat_label</th>\n",
              "      <th>len</th>\n",
              "    </tr>\n",
              "  </thead>\n",
              "  <tbody>\n",
              "    <tr>\n",
              "      <th>0</th>\n",
              "      <td>KeePass Password Safe is a free, open source, lightweight, and easy-to-use password manager for Windows, Linux and Mac OS X, with ports for Android, iPhone/iPad and other mobile devices. With so many passwords to remember and the need to vary passwords to protect your valuable data, it’s nice to have KeePass to manage your passwords in a secure way. KeePass puts all your passwords in a highly encrypted database and locks them with one master key or a key file. As a result, you only have to remember one single master password or select the key file to unlock the whole database. And the data...</td>\n",
              "      <td>Office/Business, Database, Security, Desktop Environment, Internet, Password Generators</td>\n",
              "      <td>[Office/Business, Database, Security, Desktop Environment, Internet, Password Generators]</td>\n",
              "      <td>[1, 1, 1, 1, 1, 1, 0, 0, 0, 0, 0, 0, 0, 0, 0, 0, 0, 0, 0, 0, 0, 0, 0, 0, 0, 0, 0, 0, 0, 0, 0, 0, 0, 0, 0, 0, 0, 0, 0, 0, 0, 0, 0, 0, 0, 0, 0, 0, 0, 0, 0, 0, 0, 0, 0, 0, 0, 0, 0, 0, 0, 0, 0, 0, 0, 0, 0, 0, 0, 0, 0, 0, 0, 0, 0, 0, 0, 0, 0, 0, 0, 0, 0, 0, 0, 0, 0, 0, 0, 0, 0, 0, 0, 0, 0, 0, 0, 0, 0, 0, ...]</td>\n",
              "      <td>6</td>\n",
              "    </tr>\n",
              "    <tr>\n",
              "      <th>47</th>\n",
              "      <td>MailArchiva is a powerful, full featured email archiving (email archiver) and compliance solution for mail systems such as Microsoft Exchange. It stores all incoming, outgoing and internal emails for long term storage. A web based user interface is availMailArchiva is a powerful, full featured email archiving (email archiver) and compliance solution for mail systems such as Microsoft Exchange. It stores all incoming, outgoing and internal emails for long term storage. A web based user interface is avail</td>\n",
              "      <td>Email Spam Filter, Mail Transfer Agents, Enterprise, Data Warehousing, Database, Security</td>\n",
              "      <td>[Email Spam Filter, Mail Transfer Agents, Enterprise, Data Warehousing, Database, Security]</td>\n",
              "      <td>[0, 1, 1, 0, 0, 0, 0, 0, 0, 0, 0, 0, 0, 0, 0, 0, 0, 0, 0, 0, 0, 0, 0, 0, 0, 0, 0, 0, 0, 0, 0, 0, 0, 0, 0, 0, 0, 0, 0, 1, 0, 0, 0, 0, 0, 0, 0, 0, 0, 0, 0, 1, 1, 1, 0, 0, 0, 0, 0, 0, 0, 0, 0, 0, 0, 0, 0, 0, 0, 0, 0, 0, 0, 0, 0, 0, 0, 0, 0, 0, 0, 0, 0, 0, 0, 0, 0, 0, 0, 0, 0, 0, 0, 0, 0, 0, 0, 0, 0, 0, ...]</td>\n",
              "      <td>6</td>\n",
              "    </tr>\n",
              "    <tr>\n",
              "      <th>61</th>\n",
              "      <td>The Object-Role Modeling (ORM) standard version 2, associated schemas and generation tools, and a reference implementation in the form of the Natural Object-Role Modeling Architect for Visual Studio (NORMA) product.The Object-Role Modeling (ORM) standard version 2, associated schemas and generation tools, and a reference implementation in the form of the Natural Object-Role Modeling Architect for Visual Studio (NORMA) product.</td>\n",
              "      <td>XML, Database, UML, Code Generators, Computer-Aided Software Engineering (CASE), Design</td>\n",
              "      <td>[XML, Database, UML, Code Generators, Computer-Aided Software Engineering (CASE), Design]</td>\n",
              "      <td>[0, 1, 0, 0, 0, 0, 0, 0, 0, 0, 0, 0, 0, 0, 0, 0, 0, 0, 0, 0, 0, 0, 0, 0, 0, 0, 0, 0, 0, 0, 0, 0, 0, 0, 0, 0, 0, 0, 0, 0, 0, 0, 0, 0, 0, 0, 0, 0, 0, 0, 0, 0, 0, 0, 0, 0, 0, 0, 0, 0, 0, 0, 0, 1, 1, 1, 1, 1, 0, 0, 0, 0, 0, 0, 0, 0, 0, 0, 0, 0, 0, 0, 0, 0, 0, 0, 0, 0, 0, 0, 0, 0, 0, 0, 0, 0, 0, 0, 0, 0, ...]</td>\n",
              "      <td>6</td>\n",
              "    </tr>\n",
              "    <tr>\n",
              "      <th>71</th>\n",
              "      <td>Server bundle of : Apache2 , MySQL , PostgreSQL , OpenSSL , Xmail , SlimFTPd\\nSoftware developing triad of : PHP , Perl and Python\\n+ Apache2TriadCP , PHPmyadmin , PHPPgAdmin , AWStats , UebiMiau , PHPXMail , PHPSFTPd.\\nAll latest stables , all manualsServer bundle of : Apache2 , MySQL , PostgreSQL , OpenSSL , Xmail , SlimFTPd\\nSoftware developing triad of : PHP , Perl and Python\\n+ Apache2TriadCP , PHPmyadmin , PHPPgAdmin , AWStats , UebiMiau , PHPXMail , PHPSFTPd.\\nAll latest stables , all manuals</td>\n",
              "      <td>Email, Database, File Transfer Protocol (FTP), Site Management, HTTP Servers, Interpreters, Email Servers</td>\n",
              "      <td>[Email, Database, File Transfer Protocol (FTP), Site Management, HTTP Servers, Interpreters, Email Servers]</td>\n",
              "      <td>[0, 1, 0, 0, 0, 0, 0, 0, 1, 1, 0, 0, 0, 0, 0, 0, 0, 0, 0, 0, 0, 0, 0, 0, 0, 0, 0, 0, 0, 0, 0, 0, 0, 0, 0, 0, 0, 0, 0, 0, 0, 0, 0, 0, 0, 0, 0, 0, 0, 0, 0, 0, 0, 0, 0, 0, 0, 0, 0, 0, 0, 0, 0, 0, 0, 0, 0, 0, 0, 0, 0, 0, 1, 1, 1, 1, 0, 0, 0, 0, 0, 0, 0, 0, 0, 0, 0, 0, 0, 0, 0, 0, 0, 0, 0, 0, 0, 0, 0, 0, ...]</td>\n",
              "      <td>7</td>\n",
              "    </tr>\n",
              "    <tr>\n",
              "      <th>79</th>\n",
              "      <td>Talend Open Studio for Data Integration is only available for download from https://www.talend.com/lp/open-studio-for-data-integration/.\\n\\nOpen Studio for Data Integration is fully open source, so you can see the code and work with it. Embed existing Java code libraries, create your own components or leverage community components and code to extend your project.\\n\\nMillions of downloads and a full range of robust, open source integration software tools have made Talend the open source leader in cloud and big data integration.\\n\\nFor more information, visit community.talend.com or help.tal...</td>\n",
              "      <td>Data Formats, Enterprise, Data Warehousing, Front-Ends, Code Generators, Distributed Computing, ETL</td>\n",
              "      <td>[Data Formats, Enterprise, Data Warehousing, Front-Ends, Code Generators, Distributed Computing, ETL]</td>\n",
              "      <td>[0, 0, 0, 0, 0, 0, 0, 0, 0, 0, 0, 0, 1, 0, 0, 0, 0, 0, 0, 0, 0, 0, 0, 0, 0, 0, 0, 0, 0, 0, 0, 0, 1, 0, 0, 0, 0, 0, 0, 1, 0, 0, 0, 0, 0, 0, 0, 0, 0, 0, 0, 0, 0, 1, 0, 0, 0, 0, 0, 0, 0, 0, 0, 0, 0, 1, 0, 0, 0, 1, 0, 0, 0, 0, 0, 0, 0, 1, 0, 0, 0, 0, 0, 0, 0, 0, 0, 0, 0, 0, 0, 0, 0, 0, 0, 0, 0, 0, 0, 0, ...]</td>\n",
              "      <td>7</td>\n",
              "    </tr>\n",
              "    <tr>\n",
              "      <th>...</th>\n",
              "      <td>...</td>\n",
              "      <td>...</td>\n",
              "      <td>...</td>\n",
              "      <td>...</td>\n",
              "      <td>...</td>\n",
              "    </tr>\n",
              "    <tr>\n",
              "      <th>33490</th>\n",
              "      <td>Hiitch is a secure and advanced desktop social networking platform. It allows you to build a focused and private network of communities for your family, friends, company and etc. It gives you total control and freedom for your social networking needs.Hiitch is a secure and advanced desktop social networking platform. It allows you to build a focused and private network of communities for your family, friends, company and etc. It gives you total control and freedom for your social networking needs.</td>\n",
              "      <td>Communications, Enterprise, Security, Software Development, Internet, Sociology</td>\n",
              "      <td>[Communications, Enterprise, Security, Software Development, Internet, Sociology]</td>\n",
              "      <td>[0, 0, 1, 0, 1, 0, 0, 0, 0, 0, 0, 0, 0, 0, 0, 0, 0, 0, 0, 0, 0, 0, 0, 0, 0, 0, 0, 0, 0, 0, 0, 0, 0, 0, 0, 0, 0, 1, 0, 1, 0, 0, 0, 0, 0, 0, 0, 0, 0, 0, 0, 0, 0, 0, 0, 0, 0, 0, 0, 0, 0, 0, 0, 0, 0, 0, 0, 0, 0, 0, 0, 0, 0, 0, 0, 0, 0, 0, 0, 0, 0, 0, 0, 0, 0, 0, 0, 0, 0, 0, 0, 0, 0, 0, 0, 0, 0, 0, 0, 0, ...]</td>\n",
              "      <td>6</td>\n",
              "    </tr>\n",
              "    <tr>\n",
              "      <th>33512</th>\n",
              "      <td>VertrigoServ is a complete free WAMP server allowing PHP development for Windows. It installs Apache 2.4, PHP, MySQL and PhpMyAdmin, both installing and setting up the environment. An uninstaller allows you to remove Vertrigo from hard disc.\\n\\nVertrigo is a freeware compilation of free software (under GPL, Apache License). Main aplication has closed source code. For license details please take a look at every single component terms and conditions.VertrigoServ is a complete free WAMP server allowing PHP development for Windows. It installs Apache 2.4, PHP, MySQL and PhpMyAdmin, both instal...</td>\n",
              "      <td>Front-Ends, Database Engines/Servers, Dynamic Content, Site Management, HTTP Servers, Networking</td>\n",
              "      <td>[Front-Ends, Database Engines/Servers, Dynamic Content, Site Management, HTTP Servers, Networking]</td>\n",
              "      <td>[0, 0, 0, 0, 0, 0, 1, 1, 1, 1, 0, 0, 1, 0, 0, 0, 0, 0, 0, 0, 0, 0, 0, 0, 0, 0, 0, 0, 0, 0, 0, 0, 0, 0, 0, 0, 0, 0, 0, 0, 0, 0, 0, 0, 0, 0, 0, 0, 0, 0, 0, 0, 0, 0, 0, 0, 0, 0, 0, 0, 0, 0, 0, 0, 0, 0, 0, 0, 0, 0, 0, 0, 0, 0, 0, 0, 0, 0, 0, 0, 0, 0, 0, 0, 0, 0, 0, 0, 0, 0, 0, 0, 0, 0, 0, 0, 0, 0, 0, 0, ...]</td>\n",
              "      <td>6</td>\n",
              "    </tr>\n",
              "    <tr>\n",
              "      <th>33564</th>\n",
              "      <td>Zero Install is a decentralised cross-distribution software installation system. Create one package that works everywhere! With dependency handling and automatic updates, full support for shared libraries, and integration with native package managersZero Install is a decentralised cross-distribution software installation system. Create one package that works everywhere! With dependency handling and automatic updates, full support for shared libraries, and integration with native package managers</td>\n",
              "      <td>File Sharing, MARC and Book/Library Metadata, Software Distribution, Networking, Installation/Setup, Internet</td>\n",
              "      <td>[File Sharing, MARC and Book/Library Metadata, Software Distribution, Networking, Installation/Setup, Internet]</td>\n",
              "      <td>[0, 0, 0, 0, 1, 0, 0, 0, 0, 0, 0, 0, 0, 0, 0, 0, 0, 0, 0, 0, 0, 0, 0, 0, 0, 0, 0, 0, 0, 0, 0, 0, 0, 0, 0, 0, 0, 0, 0, 0, 0, 0, 0, 0, 0, 0, 0, 0, 1, 0, 0, 0, 0, 0, 0, 0, 0, 0, 0, 0, 0, 0, 0, 0, 0, 0, 0, 0, 0, 0, 0, 0, 0, 0, 0, 0, 0, 0, 0, 0, 0, 0, 0, 0, 0, 0, 0, 0, 0, 0, 0, 0, 0, 0, 0, 0, 0, 0, 0, 0, ...]</td>\n",
              "      <td>6</td>\n",
              "    </tr>\n",
              "    <tr>\n",
              "      <th>33582</th>\n",
              "      <td>winPenPack is a project that aims at collecting the most frequently used and most popular open source applications made portable, so that they can be executed without installation from any USB Flash Drive or Hard Disk. The winPenPack suites offer a wide range of portable applications like office tools, internet tools, multimedia tools, development tools, security applications and other frequently used utilities. Everything you need, completely free, open source and portable!winPenPack is a project that aims at collecting the most frequently used and most popular open source applications ma...</td>\n",
              "      <td>Communications, Office Suites, Security, System, Internet, Graphics</td>\n",
              "      <td>[Communications, Office Suites, Security, System, Internet, Graphics]</td>\n",
              "      <td>[0, 0, 1, 0, 1, 0, 0, 0, 0, 0, 0, 0, 0, 0, 0, 0, 1, 0, 0, 0, 0, 0, 0, 0, 0, 0, 0, 0, 0, 0, 0, 0, 0, 0, 0, 0, 0, 0, 0, 0, 0, 0, 0, 0, 0, 0, 0, 0, 0, 0, 0, 0, 0, 0, 0, 0, 0, 0, 0, 0, 0, 0, 0, 0, 0, 0, 0, 0, 0, 0, 0, 0, 0, 0, 0, 0, 0, 0, 0, 0, 0, 0, 0, 0, 0, 0, 0, 0, 0, 0, 0, 0, 0, 0, 0, 0, 0, 0, 0, 0, ...]</td>\n",
              "      <td>6</td>\n",
              "    </tr>\n",
              "    <tr>\n",
              "      <th>33620</th>\n",
              "      <td>This project now hosts the third-generation of Java SSH API, Maverick Synergy. This API builds on the Maverick Legacy commercial APIs and delivers a new API in a unified client/server framework. This API is available to the community under the LGPL open source license.\\n\\nThis update includes ed25519 support, support for the new OpenSSH private key file format and stronger key exchange algorithms.\\n\\nThe project continues to host both the original API and legacy applications created around it, however, these are now considered deprecated and we do not recommend their use in anyway.This pro...</td>\n",
              "      <td>Terminals, Security, Software Development, Systems Administration, Networking, Internet</td>\n",
              "      <td>[Terminals, Security, Software Development, Systems Administration, Networking, Internet]</td>\n",
              "      <td>[0, 0, 1, 0, 1, 0, 0, 0, 0, 0, 0, 0, 0, 0, 0, 0, 0, 0, 0, 0, 0, 0, 0, 0, 0, 0, 0, 0, 0, 0, 0, 0, 0, 1, 0, 0, 0, 1, 0, 0, 0, 0, 0, 0, 0, 0, 0, 0, 0, 0, 0, 0, 0, 0, 0, 0, 0, 0, 0, 0, 0, 0, 0, 0, 0, 0, 0, 0, 0, 0, 0, 0, 0, 0, 0, 0, 0, 0, 0, 0, 0, 0, 0, 0, 0, 0, 0, 0, 0, 0, 0, 0, 0, 0, 0, 0, 0, 0, 0, 0, ...]</td>\n",
              "      <td>6</td>\n",
              "    </tr>\n",
              "  </tbody>\n",
              "</table>\n",
              "<p>650 rows × 5 columns</p>\n",
              "</div>\n",
              "      <button class=\"colab-df-convert\" onclick=\"convertToInteractive('df-b4e09928-3d0e-4bd5-9bf7-9f14a3c96735')\"\n",
              "              title=\"Convert this dataframe to an interactive table.\"\n",
              "              style=\"display:none;\">\n",
              "        \n",
              "  <svg xmlns=\"http://www.w3.org/2000/svg\" height=\"24px\"viewBox=\"0 0 24 24\"\n",
              "       width=\"24px\">\n",
              "    <path d=\"M0 0h24v24H0V0z\" fill=\"none\"/>\n",
              "    <path d=\"M18.56 5.44l.94 2.06.94-2.06 2.06-.94-2.06-.94-.94-2.06-.94 2.06-2.06.94zm-11 1L8.5 8.5l.94-2.06 2.06-.94-2.06-.94L8.5 2.5l-.94 2.06-2.06.94zm10 10l.94 2.06.94-2.06 2.06-.94-2.06-.94-.94-2.06-.94 2.06-2.06.94z\"/><path d=\"M17.41 7.96l-1.37-1.37c-.4-.4-.92-.59-1.43-.59-.52 0-1.04.2-1.43.59L10.3 9.45l-7.72 7.72c-.78.78-.78 2.05 0 2.83L4 21.41c.39.39.9.59 1.41.59.51 0 1.02-.2 1.41-.59l7.78-7.78 2.81-2.81c.8-.78.8-2.07 0-2.86zM5.41 20L4 18.59l7.72-7.72 1.47 1.35L5.41 20z\"/>\n",
              "  </svg>\n",
              "      </button>\n",
              "      \n",
              "  <style>\n",
              "    .colab-df-container {\n",
              "      display:flex;\n",
              "      flex-wrap:wrap;\n",
              "      gap: 12px;\n",
              "    }\n",
              "\n",
              "    .colab-df-convert {\n",
              "      background-color: #E8F0FE;\n",
              "      border: none;\n",
              "      border-radius: 50%;\n",
              "      cursor: pointer;\n",
              "      display: none;\n",
              "      fill: #1967D2;\n",
              "      height: 32px;\n",
              "      padding: 0 0 0 0;\n",
              "      width: 32px;\n",
              "    }\n",
              "\n",
              "    .colab-df-convert:hover {\n",
              "      background-color: #E2EBFA;\n",
              "      box-shadow: 0px 1px 2px rgba(60, 64, 67, 0.3), 0px 1px 3px 1px rgba(60, 64, 67, 0.15);\n",
              "      fill: #174EA6;\n",
              "    }\n",
              "\n",
              "    [theme=dark] .colab-df-convert {\n",
              "      background-color: #3B4455;\n",
              "      fill: #D2E3FC;\n",
              "    }\n",
              "\n",
              "    [theme=dark] .colab-df-convert:hover {\n",
              "      background-color: #434B5C;\n",
              "      box-shadow: 0px 1px 3px 1px rgba(0, 0, 0, 0.15);\n",
              "      filter: drop-shadow(0px 1px 2px rgba(0, 0, 0, 0.3));\n",
              "      fill: #FFFFFF;\n",
              "    }\n",
              "  </style>\n",
              "\n",
              "      <script>\n",
              "        const buttonEl =\n",
              "          document.querySelector('#df-b4e09928-3d0e-4bd5-9bf7-9f14a3c96735 button.colab-df-convert');\n",
              "        buttonEl.style.display =\n",
              "          google.colab.kernel.accessAllowed ? 'block' : 'none';\n",
              "\n",
              "        async function convertToInteractive(key) {\n",
              "          const element = document.querySelector('#df-b4e09928-3d0e-4bd5-9bf7-9f14a3c96735');\n",
              "          const dataTable =\n",
              "            await google.colab.kernel.invokeFunction('convertToInteractive',\n",
              "                                                     [key], {});\n",
              "          if (!dataTable) return;\n",
              "\n",
              "          const docLinkHtml = 'Like what you see? Visit the ' +\n",
              "            '<a target=\"_blank\" href=https://colab.research.google.com/notebooks/data_table.ipynb>data table notebook</a>'\n",
              "            + ' to learn more about interactive tables.';\n",
              "          element.innerHTML = '';\n",
              "          dataTable['output_type'] = 'display_data';\n",
              "          await google.colab.output.renderOutput(dataTable, element);\n",
              "          const docLink = document.createElement('div');\n",
              "          docLink.innerHTML = docLinkHtml;\n",
              "          element.appendChild(docLink);\n",
              "        }\n",
              "      </script>\n",
              "    </div>\n",
              "  </div>\n",
              "  "
            ],
            "text/plain": [
              "                                                                                                                                                                                                                                                                                                                                                                                                                                                                                                                                                                                                                   Description  \\\n",
              "0      KeePass Password Safe is a free, open source, lightweight, and easy-to-use password manager for Windows, Linux and Mac OS X, with ports for Android, iPhone/iPad and other mobile devices. With so many passwords to remember and the need to vary passwords to protect your valuable data, it’s nice to have KeePass to manage your passwords in a secure way. KeePass puts all your passwords in a highly encrypted database and locks them with one master key or a key file. As a result, you only have to remember one single master password or select the key file to unlock the whole database. And the data...   \n",
              "47                                                                                                MailArchiva is a powerful, full featured email archiving (email archiver) and compliance solution for mail systems such as Microsoft Exchange. It stores all incoming, outgoing and internal emails for long term storage. A web based user interface is availMailArchiva is a powerful, full featured email archiving (email archiver) and compliance solution for mail systems such as Microsoft Exchange. It stores all incoming, outgoing and internal emails for long term storage. A web based user interface is avail   \n",
              "61                                                                                                                                                                              The Object-Role Modeling (ORM) standard version 2, associated schemas and generation tools, and a reference implementation in the form of the Natural Object-Role Modeling Architect for Visual Studio (NORMA) product.The Object-Role Modeling (ORM) standard version 2, associated schemas and generation tools, and a reference implementation in the form of the Natural Object-Role Modeling Architect for Visual Studio (NORMA) product.   \n",
              "71                                                                                                    Server bundle of : Apache2 , MySQL , PostgreSQL , OpenSSL , Xmail , SlimFTPd\\nSoftware developing triad of : PHP , Perl and Python\\n+ Apache2TriadCP , PHPmyadmin , PHPPgAdmin , AWStats , UebiMiau , PHPXMail , PHPSFTPd.\\nAll latest stables , all manualsServer bundle of : Apache2 , MySQL , PostgreSQL , OpenSSL , Xmail , SlimFTPd\\nSoftware developing triad of : PHP , Perl and Python\\n+ Apache2TriadCP , PHPmyadmin , PHPPgAdmin , AWStats , UebiMiau , PHPXMail , PHPSFTPd.\\nAll latest stables , all manuals   \n",
              "79     Talend Open Studio for Data Integration is only available for download from https://www.talend.com/lp/open-studio-for-data-integration/.\\n\\nOpen Studio for Data Integration is fully open source, so you can see the code and work with it. Embed existing Java code libraries, create your own components or leverage community components and code to extend your project.\\n\\nMillions of downloads and a full range of robust, open source integration software tools have made Talend the open source leader in cloud and big data integration.\\n\\nFor more information, visit community.talend.com or help.tal...   \n",
              "...                                                                                                                                                                                                                                                                                                                                                                                                                                                                                                                                                                                                                        ...   \n",
              "33490                                                                                                   Hiitch is a secure and advanced desktop social networking platform. It allows you to build a focused and private network of communities for your family, friends, company and etc. It gives you total control and freedom for your social networking needs.Hiitch is a secure and advanced desktop social networking platform. It allows you to build a focused and private network of communities for your family, friends, company and etc. It gives you total control and freedom for your social networking needs.   \n",
              "33512  VertrigoServ is a complete free WAMP server allowing PHP development for Windows. It installs Apache 2.4, PHP, MySQL and PhpMyAdmin, both installing and setting up the environment. An uninstaller allows you to remove Vertrigo from hard disc.\\n\\nVertrigo is a freeware compilation of free software (under GPL, Apache License). Main aplication has closed source code. For license details please take a look at every single component terms and conditions.VertrigoServ is a complete free WAMP server allowing PHP development for Windows. It installs Apache 2.4, PHP, MySQL and PhpMyAdmin, both instal...   \n",
              "33564                                                                                                     Zero Install is a decentralised cross-distribution software installation system. Create one package that works everywhere! With dependency handling and automatic updates, full support for shared libraries, and integration with native package managersZero Install is a decentralised cross-distribution software installation system. Create one package that works everywhere! With dependency handling and automatic updates, full support for shared libraries, and integration with native package managers   \n",
              "33582  winPenPack is a project that aims at collecting the most frequently used and most popular open source applications made portable, so that they can be executed without installation from any USB Flash Drive or Hard Disk. The winPenPack suites offer a wide range of portable applications like office tools, internet tools, multimedia tools, development tools, security applications and other frequently used utilities. Everything you need, completely free, open source and portable!winPenPack is a project that aims at collecting the most frequently used and most popular open source applications ma...   \n",
              "33620  This project now hosts the third-generation of Java SSH API, Maverick Synergy. This API builds on the Maverick Legacy commercial APIs and delivers a new API in a unified client/server framework. This API is available to the community under the LGPL open source license.\\n\\nThis update includes ed25519 support, support for the new OpenSSH private key file format and stronger key exchange algorithms.\\n\\nThe project continues to host both the original API and legacy applications created around it, however, these are now considered deprecated and we do not recommend their use in anyway.This pro...   \n",
              "\n",
              "                                                                                                            Category  \\\n",
              "0                            Office/Business, Database, Security, Desktop Environment, Internet, Password Generators   \n",
              "47                         Email Spam Filter, Mail Transfer Agents, Enterprise, Data Warehousing, Database, Security   \n",
              "61                           XML, Database, UML, Code Generators, Computer-Aided Software Engineering (CASE), Design   \n",
              "71         Email, Database, File Transfer Protocol (FTP), Site Management, HTTP Servers, Interpreters, Email Servers   \n",
              "79               Data Formats, Enterprise, Data Warehousing, Front-Ends, Code Generators, Distributed Computing, ETL   \n",
              "...                                                                                                              ...   \n",
              "33490                                Communications, Enterprise, Security, Software Development, Internet, Sociology   \n",
              "33512               Front-Ends, Database Engines/Servers, Dynamic Content, Site Management, HTTP Servers, Networking   \n",
              "33564  File Sharing, MARC and Book/Library Metadata, Software Distribution, Networking, Installation/Setup, Internet   \n",
              "33582                                            Communications, Office Suites, Security, System, Internet, Graphics   \n",
              "33620                        Terminals, Security, Software Development, Systems Administration, Networking, Internet   \n",
              "\n",
              "                                                                                                   selected_categories  \\\n",
              "0                            [Office/Business, Database, Security, Desktop Environment, Internet, Password Generators]   \n",
              "47                         [Email Spam Filter, Mail Transfer Agents, Enterprise, Data Warehousing, Database, Security]   \n",
              "61                           [XML, Database, UML, Code Generators, Computer-Aided Software Engineering (CASE), Design]   \n",
              "71         [Email, Database, File Transfer Protocol (FTP), Site Management, HTTP Servers, Interpreters, Email Servers]   \n",
              "79               [Data Formats, Enterprise, Data Warehousing, Front-Ends, Code Generators, Distributed Computing, ETL]   \n",
              "...                                                                                                                ...   \n",
              "33490                                [Communications, Enterprise, Security, Software Development, Internet, Sociology]   \n",
              "33512               [Front-Ends, Database Engines/Servers, Dynamic Content, Site Management, HTTP Servers, Networking]   \n",
              "33564  [File Sharing, MARC and Book/Library Metadata, Software Distribution, Networking, Installation/Setup, Internet]   \n",
              "33582                                            [Communications, Office Suites, Security, System, Internet, Graphics]   \n",
              "33620                        [Terminals, Security, Software Development, Systems Administration, Networking, Internet]   \n",
              "\n",
              "                                                                                                                                                                                                                                                                                                               cat_label  \\\n",
              "0      [1, 1, 1, 1, 1, 1, 0, 0, 0, 0, 0, 0, 0, 0, 0, 0, 0, 0, 0, 0, 0, 0, 0, 0, 0, 0, 0, 0, 0, 0, 0, 0, 0, 0, 0, 0, 0, 0, 0, 0, 0, 0, 0, 0, 0, 0, 0, 0, 0, 0, 0, 0, 0, 0, 0, 0, 0, 0, 0, 0, 0, 0, 0, 0, 0, 0, 0, 0, 0, 0, 0, 0, 0, 0, 0, 0, 0, 0, 0, 0, 0, 0, 0, 0, 0, 0, 0, 0, 0, 0, 0, 0, 0, 0, 0, 0, 0, 0, 0, 0, ...]   \n",
              "47     [0, 1, 1, 0, 0, 0, 0, 0, 0, 0, 0, 0, 0, 0, 0, 0, 0, 0, 0, 0, 0, 0, 0, 0, 0, 0, 0, 0, 0, 0, 0, 0, 0, 0, 0, 0, 0, 0, 0, 1, 0, 0, 0, 0, 0, 0, 0, 0, 0, 0, 0, 1, 1, 1, 0, 0, 0, 0, 0, 0, 0, 0, 0, 0, 0, 0, 0, 0, 0, 0, 0, 0, 0, 0, 0, 0, 0, 0, 0, 0, 0, 0, 0, 0, 0, 0, 0, 0, 0, 0, 0, 0, 0, 0, 0, 0, 0, 0, 0, 0, ...]   \n",
              "61     [0, 1, 0, 0, 0, 0, 0, 0, 0, 0, 0, 0, 0, 0, 0, 0, 0, 0, 0, 0, 0, 0, 0, 0, 0, 0, 0, 0, 0, 0, 0, 0, 0, 0, 0, 0, 0, 0, 0, 0, 0, 0, 0, 0, 0, 0, 0, 0, 0, 0, 0, 0, 0, 0, 0, 0, 0, 0, 0, 0, 0, 0, 0, 1, 1, 1, 1, 1, 0, 0, 0, 0, 0, 0, 0, 0, 0, 0, 0, 0, 0, 0, 0, 0, 0, 0, 0, 0, 0, 0, 0, 0, 0, 0, 0, 0, 0, 0, 0, 0, ...]   \n",
              "71     [0, 1, 0, 0, 0, 0, 0, 0, 1, 1, 0, 0, 0, 0, 0, 0, 0, 0, 0, 0, 0, 0, 0, 0, 0, 0, 0, 0, 0, 0, 0, 0, 0, 0, 0, 0, 0, 0, 0, 0, 0, 0, 0, 0, 0, 0, 0, 0, 0, 0, 0, 0, 0, 0, 0, 0, 0, 0, 0, 0, 0, 0, 0, 0, 0, 0, 0, 0, 0, 0, 0, 0, 1, 1, 1, 1, 0, 0, 0, 0, 0, 0, 0, 0, 0, 0, 0, 0, 0, 0, 0, 0, 0, 0, 0, 0, 0, 0, 0, 0, ...]   \n",
              "79     [0, 0, 0, 0, 0, 0, 0, 0, 0, 0, 0, 0, 1, 0, 0, 0, 0, 0, 0, 0, 0, 0, 0, 0, 0, 0, 0, 0, 0, 0, 0, 0, 1, 0, 0, 0, 0, 0, 0, 1, 0, 0, 0, 0, 0, 0, 0, 0, 0, 0, 0, 0, 0, 1, 0, 0, 0, 0, 0, 0, 0, 0, 0, 0, 0, 1, 0, 0, 0, 1, 0, 0, 0, 0, 0, 0, 0, 1, 0, 0, 0, 0, 0, 0, 0, 0, 0, 0, 0, 0, 0, 0, 0, 0, 0, 0, 0, 0, 0, 0, ...]   \n",
              "...                                                                                                                                                                                                                                                                                                                  ...   \n",
              "33490  [0, 0, 1, 0, 1, 0, 0, 0, 0, 0, 0, 0, 0, 0, 0, 0, 0, 0, 0, 0, 0, 0, 0, 0, 0, 0, 0, 0, 0, 0, 0, 0, 0, 0, 0, 0, 0, 1, 0, 1, 0, 0, 0, 0, 0, 0, 0, 0, 0, 0, 0, 0, 0, 0, 0, 0, 0, 0, 0, 0, 0, 0, 0, 0, 0, 0, 0, 0, 0, 0, 0, 0, 0, 0, 0, 0, 0, 0, 0, 0, 0, 0, 0, 0, 0, 0, 0, 0, 0, 0, 0, 0, 0, 0, 0, 0, 0, 0, 0, 0, ...]   \n",
              "33512  [0, 0, 0, 0, 0, 0, 1, 1, 1, 1, 0, 0, 1, 0, 0, 0, 0, 0, 0, 0, 0, 0, 0, 0, 0, 0, 0, 0, 0, 0, 0, 0, 0, 0, 0, 0, 0, 0, 0, 0, 0, 0, 0, 0, 0, 0, 0, 0, 0, 0, 0, 0, 0, 0, 0, 0, 0, 0, 0, 0, 0, 0, 0, 0, 0, 0, 0, 0, 0, 0, 0, 0, 0, 0, 0, 0, 0, 0, 0, 0, 0, 0, 0, 0, 0, 0, 0, 0, 0, 0, 0, 0, 0, 0, 0, 0, 0, 0, 0, 0, ...]   \n",
              "33564  [0, 0, 0, 0, 1, 0, 0, 0, 0, 0, 0, 0, 0, 0, 0, 0, 0, 0, 0, 0, 0, 0, 0, 0, 0, 0, 0, 0, 0, 0, 0, 0, 0, 0, 0, 0, 0, 0, 0, 0, 0, 0, 0, 0, 0, 0, 0, 0, 1, 0, 0, 0, 0, 0, 0, 0, 0, 0, 0, 0, 0, 0, 0, 0, 0, 0, 0, 0, 0, 0, 0, 0, 0, 0, 0, 0, 0, 0, 0, 0, 0, 0, 0, 0, 0, 0, 0, 0, 0, 0, 0, 0, 0, 0, 0, 0, 0, 0, 0, 0, ...]   \n",
              "33582  [0, 0, 1, 0, 1, 0, 0, 0, 0, 0, 0, 0, 0, 0, 0, 0, 1, 0, 0, 0, 0, 0, 0, 0, 0, 0, 0, 0, 0, 0, 0, 0, 0, 0, 0, 0, 0, 0, 0, 0, 0, 0, 0, 0, 0, 0, 0, 0, 0, 0, 0, 0, 0, 0, 0, 0, 0, 0, 0, 0, 0, 0, 0, 0, 0, 0, 0, 0, 0, 0, 0, 0, 0, 0, 0, 0, 0, 0, 0, 0, 0, 0, 0, 0, 0, 0, 0, 0, 0, 0, 0, 0, 0, 0, 0, 0, 0, 0, 0, 0, ...]   \n",
              "33620  [0, 0, 1, 0, 1, 0, 0, 0, 0, 0, 0, 0, 0, 0, 0, 0, 0, 0, 0, 0, 0, 0, 0, 0, 0, 0, 0, 0, 0, 0, 0, 0, 0, 1, 0, 0, 0, 1, 0, 0, 0, 0, 0, 0, 0, 0, 0, 0, 0, 0, 0, 0, 0, 0, 0, 0, 0, 0, 0, 0, 0, 0, 0, 0, 0, 0, 0, 0, 0, 0, 0, 0, 0, 0, 0, 0, 0, 0, 0, 0, 0, 0, 0, 0, 0, 0, 0, 0, 0, 0, 0, 0, 0, 0, 0, 0, 0, 0, 0, 0, ...]   \n",
              "\n",
              "       len  \n",
              "0        6  \n",
              "47       6  \n",
              "61       6  \n",
              "71       7  \n",
              "79       7  \n",
              "...    ...  \n",
              "33490    6  \n",
              "33512    6  \n",
              "33564    6  \n",
              "33582    6  \n",
              "33620    6  \n",
              "\n",
              "[650 rows x 5 columns]"
            ]
          },
          "execution_count": 36,
          "metadata": {},
          "output_type": "execute_result"
        }
      ],
      "source": [
        "data[data['len'] > 5]"
      ]
    },
    {
      "cell_type": "code",
      "execution_count": 44,
      "metadata": {
        "id": "S-YJjQMZQ8ta"
      },
      "outputs": [],
      "source": [
        "data = data.drop(data[(data['len']==1) & (data['len']==0)].index,axis = 0)"
      ]
    },
    {
      "cell_type": "code",
      "execution_count": 45,
      "metadata": {
        "colab": {
          "base_uri": "https://localhost:8080/"
        },
        "id": "lBTp9ZhbQ8qk",
        "outputId": "1c03e506-e80b-41f0-c82c-6560732574f5"
      },
      "outputs": [
        {
          "data": {
            "text/plain": [
              "(33634, 5)"
            ]
          },
          "execution_count": 45,
          "metadata": {},
          "output_type": "execute_result"
        }
      ],
      "source": [
        "data.shape"
      ]
    },
    {
      "cell_type": "markdown",
      "metadata": {
        "id": "Ajsr_Wfc59s-"
      },
      "source": [
        "# Train model using preprocessed data"
      ]
    },
    {
      "cell_type": "code",
      "execution_count": 47,
      "metadata": {
        "id": "ldPhBj2OQ8n0"
      },
      "outputs": [],
      "source": [
        "model_name ='distilroberta-base' #\"bertabaporu-large\" #  bs 2\n",
        "model_cls = AutoModelForSequenceClassification\n",
        "config = AutoConfig.from_pretrained(model_name)\n",
        "config.num_labels = len(cat_list)\n",
        "\n",
        "hf_arch, hf_config, hf_tokenizer, hf_model = get_hf_objects(model_name, model_cls=model_cls, config=config)\n",
        "hf_model.config.problem_type = \"multi_label_classification\""
      ]
    },
    {
      "cell_type": "code",
      "execution_count": 48,
      "metadata": {
        "id": "TnlUG0x9m2PP"
      },
      "outputs": [],
      "source": [
        "blocks = (TextBlock(hf_arch, hf_config, hf_tokenizer, hf_model), MultiCategoryBlock(encoded=True,vocab=cat_list))\n",
        "dblock = DataBlock(blocks=blocks, get_x=ColReader('Description'), get_y=ColReader('cat_label'), splitter=RandomSplitter(valid_pct=0.2, seed=42))"
      ]
    },
    {
      "cell_type": "code",
      "execution_count": 49,
      "metadata": {
        "id": "QdknfkILnIbB"
      },
      "outputs": [],
      "source": [
        "dls = dblock.dataloaders(data, bs=32)"
      ]
    },
    {
      "cell_type": "code",
      "execution_count": 50,
      "metadata": {
        "colab": {
          "base_uri": "https://localhost:8080/",
          "height": 538
        },
        "id": "raSyTZZinPZB",
        "outputId": "4e9ccd7d-4279-42de-a2be-e2b678860847"
      },
      "outputs": [
        {
          "data": {
            "text/html": [
              "<table border=\"1\" class=\"dataframe\">\n",
              "  <thead>\n",
              "    <tr style=\"text-align: right;\">\n",
              "      <th></th>\n",
              "      <th>text</th>\n",
              "      <th>target</th>\n",
              "    </tr>\n",
              "  </thead>\n",
              "  <tbody>\n",
              "    <tr>\n",
              "      <th>0</th>\n",
              "      <td>---\\n--- Luntu - сборка Ubuntu LXDE AppPack\\n---\\n\\nСИСТЕМНЫЕ ТРЕБОВАНИЯ\\nМесто на диске: 10 Гб\\nОперативная память: 512 Мб\\n(для работы в интернете от 1 Гб)\\n\\nЭта сборка создана для личного использования, если вам она пригодиться и понравится буду рад. Ее создание было обосновано отказом Lubuntu использовать LXDE, которая мне приходится по вкусу.\\nВ названиях файлов указаны архитектура сборки (i386, amd64) и номер, соответствующий номеру версии Ubuntu (18 - bionic, 20 - focal).\\nВ Luntu используется консольный установщик системы (самопи</td>\n",
              "      <td>[Desktop Environment, OS distribution, Live CD]</td>\n",
              "    </tr>\n",
              "    <tr>\n",
              "      <th>1</th>\n",
              "      <td>전자문서 유통 클라이언트 기술규격(v2.0)을 만족하는 유통 클라이언트 API 구현 프로젝트입니다. 이 프로젝트의 결과물을 이용하여 유통 메시징 서버(#메일 서버)의 클라이언트를 제작할 수 있는데 본 프로젝트에서는 클라이언트 API를 이용하여 안드로이드 용 앱을 구현하여 공개합니다.\\n\\n클라이언트 API는 ecc-open-sdk이며, 안드로이드 용 앱은 오픈 #메일입니다. 구글플레이에서 \"오픈 #메일\"을 검색하세요.\\n\\nTwitter : https://twitter.com/OpenSharpMail\\nFacebook : https://www.facebook.com/OpenSharpMail전자문서 유통 클�</td>\n",
              "      <td>[Communications]</td>\n",
              "    </tr>\n",
              "    <tr>\n",
              "      <th>2</th>\n",
              "      <td>English Vietnamese Translator and Dictionary\\n# Translate Text from Word, PDF, Website...\\n# Translate Text from Images, Videos, Programs...\\n\\nPhần mềm dịch tiếng Anh - tiếng Việt miễn phí. Bạn có thể dịch trực tiếp văn bản trên website bất kỳ, hoặc nhập văn bản cần dịch. Để kết quả dịch được chính xác, bạn nên dịch theo cụm từ hoặc từng câu. Bạn chỉ cần nhấn đúp chuột vào một từ hoặc dùng chuột để đánh dấu một đoạn văn bản khi đang lướt web để thấy kết quả dịch. Phần mềm có thể dịch tiếng Anh sáng tiếng Việt hoặc tiếng Việt sang tiếng Anh.\\nYêu cầu: cài đặt.Net Framework 4.5.2 trở lên\\nWebsite: https://vikitranslator.comEnglish Vietnamese Translator and Dictionary\\n# Translate Text from Word, PDF, Website...\\n# Translate Text from Images, Videos, Programs...\\n\\nPhần mềm d�</td>\n",
              "      <td>[Languages, Dictionary, Computer Aided Translation (CAT)]</td>\n",
              "    </tr>\n",
              "    <tr>\n",
              "      <th>3</th>\n",
              "      <td>Cooking - це додаток, який дозволить поділитись рецептами із іншими користувачами або переглянути рецепти інших користувачів. Простий та інтуїтивний інтерфейс. Cooking teams збільшується що дня. В близькому майбутньому планується багато планів, які покращать роботу додатка, будуть додані нові функції. Залишайтесь з нами.\\n\\nПереходим на Play Market, https://play.google.com/store/apps/details?id=com.frusty.cooking&amp;hl=uk&amp;gl=USCooking - це додаток, який дозволить поділитись рецептами із іншими користувачами або переглянути реце</td>\n",
              "      <td>[Mobile]</td>\n",
              "    </tr>\n",
              "    <tr>\n",
              "      <th>4</th>\n",
              "      <td>Welcome to the world of Android programming!\\n\\nDevelop Native Android applications with Delphi XE5/XE6/XE7\\n\\nSome components:\\n+ Added TDPFJAlertDialog\\n+ TDPFJAnalogClock\\n+ TDPFJButton\\n+ TDPFJCheckBox\\n+ TDPFJChronometer\\n+ TDPFJDatePicker\\n+ TDPFJDatePickerDialog\\n+ TDPFJEditText\\n+ TDPFJImageView\\n+ TDPFJListView (not completed)\\n+ TDPFJProgressBar\\n+ TDPFJProgressDialog\\n+ TDPFJTextView\\n+ TDPFJTimePickerDialog\\n+ TDPFJToast\\n+ TDPFJView\\n+ TDPFJRadioButton\\n+ TDPFJNumberPicker\\n+ TDPFJSeekBar\\n+ TDPFJTabHost Component (Tabbed view)\\n+ TDPFJSpinner Component (Dropdown list)\\n+ TDPFJTextSwitcher Component (Fade/Slide Texts)\\n+ TDPFJTextClock\\n+ TDPFJWebView\\n\\nFollow me:\\nhttps://www.facebook.com/babak.yaghoobii\\nhttps://www.linkedin.com/in/babakyaghoobi\\nhttps://plus.google.com/+BabakYaghoobii\\nhttp://babakyaghoobi.blogspot.com\\nhttps://stackoverflow.com/users/4557781/babak-yaghoobi\\nhttps://www.colatform.com/en/\\n\\nEnjoy AndWelcome to the world of Android programming!\\n\\nDevelop Native Android applications with Delphi XE5/XE6/XE7\\n\\nSome components:\\n+ Added TDPFJAlertDialog\\n+ TDPFJAnalogClock\\n+ TDPFJButton\\n+ TDPFJCheckBox\\n+ TDPFJChronometer\\n+ TDPFJDatePicker\\n+ TDPFJDatePickerDialog\\n+ TDPFJEditText\\n+ TDPFJImageView\\n+ TDPFJListView (not completed)\\n+ TDPFJProgressBar\\n+ TDPFJProgressDialog\\n+</td>\n",
              "      <td>[Frameworks, Libraries, Mobile]</td>\n",
              "    </tr>\n",
              "  </tbody>\n",
              "</table>"
            ],
            "text/plain": [
              "<IPython.core.display.HTML object>"
            ]
          },
          "metadata": {},
          "output_type": "display_data"
        }
      ],
      "source": [
        "dls.show_batch(dataloaders=dls, max_n=5)"
      ]
    },
    {
      "cell_type": "code",
      "execution_count": 51,
      "metadata": {
        "id": "cmwZE83Yn_4t"
      },
      "outputs": [],
      "source": [
        "model = BaseModelWrapper(hf_model)\n",
        " \n",
        "acc_02 = partial(accuracy_multi, thresh=0.2)\n",
        "\n",
        "learner = Learner(dls, \n",
        "                  model,\n",
        "                  loss_func=BCEWithLogitsLossFlat(),\n",
        "                  metrics=[acc_02],\n",
        "                  cbs=[BaseModelCallback],\n",
        "                  splitter=blurr_splitter\n",
        "                  ).to_fp16()"
      ]
    },
    {
      "cell_type": "code",
      "execution_count": 52,
      "metadata": {
        "id": "llX9whp3pTwx"
      },
      "outputs": [],
      "source": [
        "learner.freeze()"
      ]
    },
    {
      "cell_type": "code",
      "execution_count": 53,
      "metadata": {
        "colab": {
          "base_uri": "https://localhost:8080/",
          "height": 300
        },
        "id": "ItjPslTqpUNO",
        "outputId": "43536ba6-b173-4c6b-9690-c611c17fc053"
      },
      "outputs": [
        {
          "data": {
            "text/html": [
              "\n",
              "<style>\n",
              "    /* Turns off some styling */\n",
              "    progress {\n",
              "        /* gets rid of default border in Firefox and Opera. */\n",
              "        border: none;\n",
              "        /* Needs to be in here for Safari polyfill so background images work as expected. */\n",
              "        background-size: auto;\n",
              "    }\n",
              "    progress:not([value]), progress:not([value])::-webkit-progress-bar {\n",
              "        background: repeating-linear-gradient(45deg, #7e7e7e, #7e7e7e 10px, #5c5c5c 10px, #5c5c5c 20px);\n",
              "    }\n",
              "    .progress-bar-interrupted, .progress-bar-interrupted::-webkit-progress-bar {\n",
              "        background: #F44336;\n",
              "    }\n",
              "</style>\n"
            ],
            "text/plain": [
              "<IPython.core.display.HTML object>"
            ]
          },
          "metadata": {},
          "output_type": "display_data"
        },
        {
          "data": {
            "text/html": [],
            "text/plain": [
              "<IPython.core.display.HTML object>"
            ]
          },
          "metadata": {},
          "output_type": "display_data"
        },
        {
          "data": {
            "text/plain": [
              "SuggestedLRs(slide=0.02290867641568184, valley=0.0003981071640737355)"
            ]
          },
          "execution_count": 53,
          "metadata": {},
          "output_type": "execute_result"
        },
        {
          "data": {
            "image/png": "[encoded data removed]",
            "text/plain": [
              "<Figure size 432x288 with 1 Axes>"
            ]
          },
          "metadata": {
            "needs_background": "light"
          },
          "output_type": "display_data"
        }
      ],
      "source": [
        "learner.lr_find(suggest_funcs=[slide, valley])"
      ]
    },
    {
      "cell_type": "code",
      "execution_count": 54,
      "metadata": {
        "colab": {
          "base_uri": "https://localhost:8080/",
          "height": 112
        },
        "id": "rJcg07Gqpcg1",
        "outputId": "aa009f27-8ee3-4854-d959-388eb2d46391"
      },
      "outputs": [
        {
          "data": {
            "text/html": [
              "\n",
              "<style>\n",
              "    /* Turns off some styling */\n",
              "    progress {\n",
              "        /* gets rid of default border in Firefox and Opera. */\n",
              "        border: none;\n",
              "        /* Needs to be in here for Safari polyfill so background images work as expected. */\n",
              "        background-size: auto;\n",
              "    }\n",
              "    progress:not([value]), progress:not([value])::-webkit-progress-bar {\n",
              "        background: repeating-linear-gradient(45deg, #7e7e7e, #7e7e7e 10px, #5c5c5c 10px, #5c5c5c 20px);\n",
              "    }\n",
              "    .progress-bar-interrupted, .progress-bar-interrupted::-webkit-progress-bar {\n",
              "        background: #F44336;\n",
              "    }\n",
              "</style>\n"
            ],
            "text/plain": [
              "<IPython.core.display.HTML object>"
            ]
          },
          "metadata": {},
          "output_type": "display_data"
        },
        {
          "data": {
            "text/html": [
              "<table border=\"1\" class=\"dataframe\">\n",
              "  <thead>\n",
              "    <tr style=\"text-align: left;\">\n",
              "      <th>epoch</th>\n",
              "      <th>train_loss</th>\n",
              "      <th>valid_loss</th>\n",
              "      <th>accuracy_multi</th>\n",
              "      <th>time</th>\n",
              "    </tr>\n",
              "  </thead>\n",
              "  <tbody>\n",
              "    <tr>\n",
              "      <td>0</td>\n",
              "      <td>0.027794</td>\n",
              "      <td>0.025587</td>\n",
              "      <td>0.993194</td>\n",
              "      <td>02:11</td>\n",
              "    </tr>\n",
              "    <tr>\n",
              "      <td>1</td>\n",
              "      <td>0.021459</td>\n",
              "      <td>0.020030</td>\n",
              "      <td>0.992909</td>\n",
              "      <td>02:08</td>\n",
              "    </tr>\n",
              "  </tbody>\n",
              "</table>"
            ],
            "text/plain": [
              "<IPython.core.display.HTML object>"
            ]
          },
          "metadata": {},
          "output_type": "display_data"
        }
      ],
      "source": [
        "learner.fit_one_cycle(2,slice(0.0003981071640737355,0.02290867641568184))"
      ]
    },
    {
      "cell_type": "code",
      "execution_count": 55,
      "metadata": {
        "id": "R4wKes57qzDa"
      },
      "outputs": [],
      "source": [
        "learner.unfreeze()"
      ]
    },
    {
      "cell_type": "code",
      "execution_count": 56,
      "metadata": {
        "colab": {
          "base_uri": "https://localhost:8080/",
          "height": 300
        },
        "id": "LpLgJ17wrwip",
        "outputId": "da966f55-d7fa-4b66-bdfc-5d9a22c54211"
      },
      "outputs": [
        {
          "data": {
            "text/html": [
              "\n",
              "<style>\n",
              "    /* Turns off some styling */\n",
              "    progress {\n",
              "        /* gets rid of default border in Firefox and Opera. */\n",
              "        border: none;\n",
              "        /* Needs to be in here for Safari polyfill so background images work as expected. */\n",
              "        background-size: auto;\n",
              "    }\n",
              "    progress:not([value]), progress:not([value])::-webkit-progress-bar {\n",
              "        background: repeating-linear-gradient(45deg, #7e7e7e, #7e7e7e 10px, #5c5c5c 10px, #5c5c5c 20px);\n",
              "    }\n",
              "    .progress-bar-interrupted, .progress-bar-interrupted::-webkit-progress-bar {\n",
              "        background: #F44336;\n",
              "    }\n",
              "</style>\n"
            ],
            "text/plain": [
              "<IPython.core.display.HTML object>"
            ]
          },
          "metadata": {},
          "output_type": "display_data"
        },
        {
          "data": {
            "text/html": [],
            "text/plain": [
              "<IPython.core.display.HTML object>"
            ]
          },
          "metadata": {},
          "output_type": "display_data"
        },
        {
          "data": {
            "text/plain": [
              "SuggestedLRs(slide=6.30957365501672e-05, valley=1.2022644114040304e-05)"
            ]
          },
          "execution_count": 56,
          "metadata": {},
          "output_type": "execute_result"
        },
        {
          "data": {
            "image/png": "[encoded data removed]",
            "text/plain": [
              "<Figure size 432x288 with 1 Axes>"
            ]
          },
          "metadata": {
            "needs_background": "light"
          },
          "output_type": "display_data"
        }
      ],
      "source": [
        "learner.lr_find(suggest_funcs=[slide, valley])"
      ]
    },
    {
      "cell_type": "code",
      "execution_count": 57,
      "metadata": {
        "colab": {
          "base_uri": "https://localhost:8080/",
          "height": 143
        },
        "id": "hRxmOgnpr0sl",
        "outputId": "2b9ac484-ca11-4544-f9f8-be6578a90976"
      },
      "outputs": [
        {
          "data": {
            "text/html": [
              "\n",
              "<style>\n",
              "    /* Turns off some styling */\n",
              "    progress {\n",
              "        /* gets rid of default border in Firefox and Opera. */\n",
              "        border: none;\n",
              "        /* Needs to be in here for Safari polyfill so background images work as expected. */\n",
              "        background-size: auto;\n",
              "    }\n",
              "    progress:not([value]), progress:not([value])::-webkit-progress-bar {\n",
              "        background: repeating-linear-gradient(45deg, #7e7e7e, #7e7e7e 10px, #5c5c5c 10px, #5c5c5c 20px);\n",
              "    }\n",
              "    .progress-bar-interrupted, .progress-bar-interrupted::-webkit-progress-bar {\n",
              "        background: #F44336;\n",
              "    }\n",
              "</style>\n"
            ],
            "text/plain": [
              "<IPython.core.display.HTML object>"
            ]
          },
          "metadata": {},
          "output_type": "display_data"
        },
        {
          "data": {
            "text/html": [
              "<table border=\"1\" class=\"dataframe\">\n",
              "  <thead>\n",
              "    <tr style=\"text-align: left;\">\n",
              "      <th>epoch</th>\n",
              "      <th>train_loss</th>\n",
              "      <th>valid_loss</th>\n",
              "      <th>accuracy_multi</th>\n",
              "      <th>time</th>\n",
              "    </tr>\n",
              "  </thead>\n",
              "  <tbody>\n",
              "    <tr>\n",
              "      <td>0</td>\n",
              "      <td>0.019894</td>\n",
              "      <td>0.019289</td>\n",
              "      <td>0.993377</td>\n",
              "      <td>03:03</td>\n",
              "    </tr>\n",
              "    <tr>\n",
              "      <td>1</td>\n",
              "      <td>0.017784</td>\n",
              "      <td>0.017469</td>\n",
              "      <td>0.993839</td>\n",
              "      <td>02:51</td>\n",
              "    </tr>\n",
              "    <tr>\n",
              "      <td>2</td>\n",
              "      <td>0.015815</td>\n",
              "      <td>0.016941</td>\n",
              "      <td>0.993630</td>\n",
              "      <td>02:54</td>\n",
              "    </tr>\n",
              "  </tbody>\n",
              "</table>"
            ],
            "text/plain": [
              "<IPython.core.display.HTML object>"
            ]
          },
          "metadata": {},
          "output_type": "display_data"
        }
      ],
      "source": [
        "\n",
        "learner.fit_one_cycle(3,slice(6.30957365501672e-05,1.2022644114040304e-05))\n",
        "     "
      ]
    },
    {
      "cell_type": "code",
      "execution_count": 59,
      "metadata": {
        "id": "iAPlfDFisOP3"
      },
      "outputs": [],
      "source": [
        "learner.export(\"model/distilroberta-base.pkl\")"
      ]
    },
    {
      "cell_type": "code",
      "execution_count": 63,
      "metadata": {
        "id": "zQBJAqu11pQ1"
      },
      "outputs": [],
      "source": [
        "model = load_learner('model/distilroberta-base.pkl')"
      ]
    },
    {
      "cell_type": "code",
      "execution_count": null,
      "metadata": {
        "id": "eKwGRc18noR3"
      },
      "outputs": [],
      "source": []
    },
    {
      "cell_type": "markdown",
      "metadata": {
        "id": "WKhRUVpv6DdV"
      },
      "source": [
        "# Convert trained model into onnx\n"
      ]
    },
    {
      "cell_type": "code",
      "execution_count": 64,
      "metadata": {
        "id": "NJOqE7lwoenW"
      },
      "outputs": [],
      "source": [
        "classifier = model.model.hf_model.eval()\n",
        "torch.onnx.export(\n",
        "    classifier, \n",
        "    torch.LongTensor([[0] * 512]),\n",
        "    'model/classifier.onnx',\n",
        "    input_names=['input_ids'],\n",
        "    output_names=['output'],\n",
        "    opset_version=13,\n",
        "    dynamic_axes={\n",
        "        'input_ids': {0: 'batch_size', 1: 'sequence_len'},\n",
        "        'output': {0: 'batch_size'}\n",
        "    }\n",
        ")\n"
      ]
    },
    {
      "cell_type": "code",
      "execution_count": 65,
      "metadata": {
        "colab": {
          "base_uri": "https://localhost:8080/"
        },
        "id": "p4R2Em8OooIl",
        "outputId": "362fb47f-ec11-4008-def5-27afc28f7879"
      },
      "outputs": [
        {
          "name": "stdout",
          "output_type": "stream",
          "text": [
            "Ignore MatMul due to non constant B: /[/roberta/encoder/layer.0/attention/self/MatMul]\n",
            "Ignore MatMul due to non constant B: /[/roberta/encoder/layer.0/attention/self/MatMul_1]\n",
            "Ignore MatMul due to non constant B: /[/roberta/encoder/layer.1/attention/self/MatMul]\n",
            "Ignore MatMul due to non constant B: /[/roberta/encoder/layer.1/attention/self/MatMul_1]\n",
            "Ignore MatMul due to non constant B: /[/roberta/encoder/layer.2/attention/self/MatMul]\n",
            "Ignore MatMul due to non constant B: /[/roberta/encoder/layer.2/attention/self/MatMul_1]\n",
            "Ignore MatMul due to non constant B: /[/roberta/encoder/layer.3/attention/self/MatMul]\n",
            "Ignore MatMul due to non constant B: /[/roberta/encoder/layer.3/attention/self/MatMul_1]\n",
            "Ignore MatMul due to non constant B: /[/roberta/encoder/layer.4/attention/self/MatMul]\n",
            "Ignore MatMul due to non constant B: /[/roberta/encoder/layer.4/attention/self/MatMul_1]\n",
            "Ignore MatMul due to non constant B: /[/roberta/encoder/layer.5/attention/self/MatMul]\n",
            "Ignore MatMul due to non constant B: /[/roberta/encoder/layer.5/attention/self/MatMul_1]\n"
          ]
        }
      ],
      "source": [
        "onnx_model_path = 'model/classifier.onnx'\n",
        "quantized_onnx_model_path = 'model/classifier-quantized.onnx'\n",
        "\n",
        "quantize_dynamic(\n",
        "    onnx_model_path,\n",
        "    quantized_onnx_model_path,\n",
        "    weight_type=QuantType.QUInt8,\n",
        ")"
      ]
    },
    {
      "cell_type": "code",
      "execution_count": null,
      "metadata": {
        "id": "y3vfxTwzqRNX"
      },
      "outputs": [],
      "source": []
    }
  ],
  "metadata": {
    "accelerator": "GPU",
    "colab": {
      "provenance": []
    },
    "gpuClass": "standard",
    "kernelspec": {
      "display_name": "Python 3",
      "name": "python3"
    },
    "language_info": {
      "name": "python"
    },
    "widgets": {
      "application/vnd.jupyter.widget-state+json": {
        "110918c88dfe44bba24bec21124b4679": {
          "model_module": "@jupyter-widgets/controls",
          "model_module_version": "1.5.0",
          "model_name": "HTMLModel",
          "state": {
            "_dom_classes": [],
            "_model_module": "@jupyter-widgets/controls",
            "_model_module_version": "1.5.0",
            "_model_name": "HTMLModel",
            "_view_count": null,
            "_view_module": "@jupyter-widgets/controls",
            "_view_module_version": "1.5.0",
            "_view_name": "HTMLView",
            "description": "",
            "description_tooltip": null,
            "layout": "IPY_MODEL_54c509b1792040c0b44172d32d5daee5",
            "placeholder": "​",
            "style": "IPY_MODEL_419ba07199a345188a868bd5b2a5a58c",
            "value": "Downloading builder script: "
          }
        },
        "2b497bc439a04fddb02f1cc2bd74f39c": {
          "model_module": "@jupyter-widgets/controls",
          "model_module_version": "1.5.0",
          "model_name": "FloatProgressModel",
          "state": {
            "_dom_classes": [],
            "_model_module": "@jupyter-widgets/controls",
            "_model_module_version": "1.5.0",
            "_model_name": "FloatProgressModel",
            "_view_count": null,
            "_view_module": "@jupyter-widgets/controls",
            "_view_module_version": "1.5.0",
            "_view_name": "ProgressView",
            "bar_style": "success",
            "description": "",
            "description_tooltip": null,
            "layout": "IPY_MODEL_748e2b11baed48c1b964e893f868c192",
            "max": 1119,
            "min": 0,
            "orientation": "horizontal",
            "style": "IPY_MODEL_f8138e170d44428997cbaf4f7d7e958f",
            "value": 1119
          }
        },
        "2da3c076b7a84a218bd6e16d0d11ecc9": {
          "model_module": "@jupyter-widgets/controls",
          "model_module_version": "1.5.0",
          "model_name": "DescriptionStyleModel",
          "state": {
            "_model_module": "@jupyter-widgets/controls",
            "_model_module_version": "1.5.0",
            "_model_name": "DescriptionStyleModel",
            "_view_count": null,
            "_view_module": "@jupyter-widgets/base",
            "_view_module_version": "1.2.0",
            "_view_name": "StyleView",
            "description_width": ""
          }
        },
        "419ba07199a345188a868bd5b2a5a58c": {
          "model_module": "@jupyter-widgets/controls",
          "model_module_version": "1.5.0",
          "model_name": "DescriptionStyleModel",
          "state": {
            "_model_module": "@jupyter-widgets/controls",
            "_model_module_version": "1.5.0",
            "_model_name": "DescriptionStyleModel",
            "_view_count": null,
            "_view_module": "@jupyter-widgets/base",
            "_view_module_version": "1.2.0",
            "_view_name": "StyleView",
            "description_width": ""
          }
        },
        "5358e31b4e404e418f3bbd9d3a09a558": {
          "model_module": "@jupyter-widgets/controls",
          "model_module_version": "1.5.0",
          "model_name": "HTMLModel",
          "state": {
            "_dom_classes": [],
            "_model_module": "@jupyter-widgets/controls",
            "_model_module_version": "1.5.0",
            "_model_name": "HTMLModel",
            "_view_count": null,
            "_view_module": "@jupyter-widgets/controls",
            "_view_module_version": "1.5.0",
            "_view_name": "HTMLView",
            "description": "",
            "description_tooltip": null,
            "layout": "IPY_MODEL_64759fdba31a445b9e4a56552d9ccf2a",
            "placeholder": "​",
            "style": "IPY_MODEL_b111c79cec8a461eb6ffd3eb4e5dc337",
            "value": " 3.31k/? [00:00&lt;00:00, 99.0kB/s]"
          }
        },
        "54c509b1792040c0b44172d32d5daee5": {
          "model_module": "@jupyter-widgets/base",
          "model_module_version": "1.2.0",
          "model_name": "LayoutModel",
          "state": {
            "_model_module": "@jupyter-widgets/base",
            "_model_module_version": "1.2.0",
            "_model_name": "LayoutModel",
            "_view_count": null,
            "_view_module": "@jupyter-widgets/base",
            "_view_module_version": "1.2.0",
            "_view_name": "LayoutView",
            "align_content": null,
            "align_items": null,
            "align_self": null,
            "border": null,
            "bottom": null,
            "display": null,
            "flex": null,
            "flex_flow": null,
            "grid_area": null,
            "grid_auto_columns": null,
            "grid_auto_flow": null,
            "grid_auto_rows": null,
            "grid_column": null,
            "grid_gap": null,
            "grid_row": null,
            "grid_template_areas": null,
            "grid_template_columns": null,
            "grid_template_rows": null,
            "height": null,
            "justify_content": null,
            "justify_items": null,
            "left": null,
            "margin": null,
            "max_height": null,
            "max_width": null,
            "min_height": null,
            "min_width": null,
            "object_fit": null,
            "object_position": null,
            "order": null,
            "overflow": null,
            "overflow_x": null,
            "overflow_y": null,
            "padding": null,
            "right": null,
            "top": null,
            "visibility": null,
            "width": null
          }
        },
        "5f52a613b4694b7ba0121895cee8e23a": {
          "model_module": "@jupyter-widgets/controls",
          "model_module_version": "1.5.0",
          "model_name": "ProgressStyleModel",
          "state": {
            "_model_module": "@jupyter-widgets/controls",
            "_model_module_version": "1.5.0",
            "_model_name": "ProgressStyleModel",
            "_view_count": null,
            "_view_module": "@jupyter-widgets/base",
            "_view_module_version": "1.2.0",
            "_view_name": "StyleView",
            "bar_color": null,
            "description_width": ""
          }
        },
        "64759fdba31a445b9e4a56552d9ccf2a": {
          "model_module": "@jupyter-widgets/base",
          "model_module_version": "1.2.0",
          "model_name": "LayoutModel",
          "state": {
            "_model_module": "@jupyter-widgets/base",
            "_model_module_version": "1.2.0",
            "_model_name": "LayoutModel",
            "_view_count": null,
            "_view_module": "@jupyter-widgets/base",
            "_view_module_version": "1.2.0",
            "_view_name": "LayoutView",
            "align_content": null,
            "align_items": null,
            "align_self": null,
            "border": null,
            "bottom": null,
            "display": null,
            "flex": null,
            "flex_flow": null,
            "grid_area": null,
            "grid_auto_columns": null,
            "grid_auto_flow": null,
            "grid_auto_rows": null,
            "grid_column": null,
            "grid_gap": null,
            "grid_row": null,
            "grid_template_areas": null,
            "grid_template_columns": null,
            "grid_template_rows": null,
            "height": null,
            "justify_content": null,
            "justify_items": null,
            "left": null,
            "margin": null,
            "max_height": null,
            "max_width": null,
            "min_height": null,
            "min_width": null,
            "object_fit": null,
            "object_position": null,
            "order": null,
            "overflow": null,
            "overflow_x": null,
            "overflow_y": null,
            "padding": null,
            "right": null,
            "top": null,
            "visibility": null,
            "width": null
          }
        },
        "748e2b11baed48c1b964e893f868c192": {
          "model_module": "@jupyter-widgets/base",
          "model_module_version": "1.2.0",
          "model_name": "LayoutModel",
          "state": {
            "_model_module": "@jupyter-widgets/base",
            "_model_module_version": "1.2.0",
            "_model_name": "LayoutModel",
            "_view_count": null,
            "_view_module": "@jupyter-widgets/base",
            "_view_module_version": "1.2.0",
            "_view_name": "LayoutView",
            "align_content": null,
            "align_items": null,
            "align_self": null,
            "border": null,
            "bottom": null,
            "display": null,
            "flex": null,
            "flex_flow": null,
            "grid_area": null,
            "grid_auto_columns": null,
            "grid_auto_flow": null,
            "grid_auto_rows": null,
            "grid_column": null,
            "grid_gap": null,
            "grid_row": null,
            "grid_template_areas": null,
            "grid_template_columns": null,
            "grid_template_rows": null,
            "height": null,
            "justify_content": null,
            "justify_items": null,
            "left": null,
            "margin": null,
            "max_height": null,
            "max_width": null,
            "min_height": null,
            "min_width": null,
            "object_fit": null,
            "object_position": null,
            "order": null,
            "overflow": null,
            "overflow_x": null,
            "overflow_y": null,
            "padding": null,
            "right": null,
            "top": null,
            "visibility": null,
            "width": null
          }
        },
        "77141b665e034dc486e704bec4d21752": {
          "model_module": "@jupyter-widgets/base",
          "model_module_version": "1.2.0",
          "model_name": "LayoutModel",
          "state": {
            "_model_module": "@jupyter-widgets/base",
            "_model_module_version": "1.2.0",
            "_model_name": "LayoutModel",
            "_view_count": null,
            "_view_module": "@jupyter-widgets/base",
            "_view_module_version": "1.2.0",
            "_view_name": "LayoutView",
            "align_content": null,
            "align_items": null,
            "align_self": null,
            "border": null,
            "bottom": null,
            "display": null,
            "flex": null,
            "flex_flow": null,
            "grid_area": null,
            "grid_auto_columns": null,
            "grid_auto_flow": null,
            "grid_auto_rows": null,
            "grid_column": null,
            "grid_gap": null,
            "grid_row": null,
            "grid_template_areas": null,
            "grid_template_columns": null,
            "grid_template_rows": null,
            "height": null,
            "justify_content": null,
            "justify_items": null,
            "left": null,
            "margin": null,
            "max_height": null,
            "max_width": null,
            "min_height": null,
            "min_width": null,
            "object_fit": null,
            "object_position": null,
            "order": null,
            "overflow": null,
            "overflow_x": null,
            "overflow_y": null,
            "padding": null,
            "right": null,
            "top": null,
            "visibility": null,
            "width": null
          }
        },
        "785b3558a8e94c3a9cbaf2b15e4a1f68": {
          "model_module": "@jupyter-widgets/controls",
          "model_module_version": "1.5.0",
          "model_name": "HBoxModel",
          "state": {
            "_dom_classes": [],
            "_model_module": "@jupyter-widgets/controls",
            "_model_module_version": "1.5.0",
            "_model_name": "HBoxModel",
            "_view_count": null,
            "_view_module": "@jupyter-widgets/controls",
            "_view_module_version": "1.5.0",
            "_view_name": "HBoxView",
            "box_style": "",
            "children": [
              "IPY_MODEL_e076f428a8774a8fabe981b0e445fb3f",
              "IPY_MODEL_2b497bc439a04fddb02f1cc2bd74f39c",
              "IPY_MODEL_5358e31b4e404e418f3bbd9d3a09a558"
            ],
            "layout": "IPY_MODEL_bac635bfc0c7426b892c86aeafa244c0"
          }
        },
        "7a2136abc3c9454384c812db01159beb": {
          "model_module": "@jupyter-widgets/controls",
          "model_module_version": "1.5.0",
          "model_name": "HTMLModel",
          "state": {
            "_dom_classes": [],
            "_model_module": "@jupyter-widgets/controls",
            "_model_module_version": "1.5.0",
            "_model_name": "HTMLModel",
            "_view_count": null,
            "_view_module": "@jupyter-widgets/controls",
            "_view_module_version": "1.5.0",
            "_view_name": "HTMLView",
            "description": "",
            "description_tooltip": null,
            "layout": "IPY_MODEL_77141b665e034dc486e704bec4d21752",
            "placeholder": "​",
            "style": "IPY_MODEL_8f2e02245c7b44a5b92b77f86bf80a29",
            "value": " 4.50k/? [00:00&lt;00:00, 81.2kB/s]"
          }
        },
        "8f2e02245c7b44a5b92b77f86bf80a29": {
          "model_module": "@jupyter-widgets/controls",
          "model_module_version": "1.5.0",
          "model_name": "DescriptionStyleModel",
          "state": {
            "_model_module": "@jupyter-widgets/controls",
            "_model_module_version": "1.5.0",
            "_model_name": "DescriptionStyleModel",
            "_view_count": null,
            "_view_module": "@jupyter-widgets/base",
            "_view_module_version": "1.2.0",
            "_view_name": "StyleView",
            "description_width": ""
          }
        },
        "90cc36330dcd42b587db908177ad42f7": {
          "model_module": "@jupyter-widgets/controls",
          "model_module_version": "1.5.0",
          "model_name": "FloatProgressModel",
          "state": {
            "_dom_classes": [],
            "_model_module": "@jupyter-widgets/controls",
            "_model_module_version": "1.5.0",
            "_model_name": "FloatProgressModel",
            "_view_count": null,
            "_view_module": "@jupyter-widgets/controls",
            "_view_module_version": "1.5.0",
            "_view_name": "ProgressView",
            "bar_style": "success",
            "description": "",
            "description_tooltip": null,
            "layout": "IPY_MODEL_9926202ad41649d4ab86b436fb239d9b",
            "max": 1715,
            "min": 0,
            "orientation": "horizontal",
            "style": "IPY_MODEL_5f52a613b4694b7ba0121895cee8e23a",
            "value": 1715
          }
        },
        "93f854b22555421899f687b83d2d8d90": {
          "model_module": "@jupyter-widgets/base",
          "model_module_version": "1.2.0",
          "model_name": "LayoutModel",
          "state": {
            "_model_module": "@jupyter-widgets/base",
            "_model_module_version": "1.2.0",
            "_model_name": "LayoutModel",
            "_view_count": null,
            "_view_module": "@jupyter-widgets/base",
            "_view_module_version": "1.2.0",
            "_view_name": "LayoutView",
            "align_content": null,
            "align_items": null,
            "align_self": null,
            "border": null,
            "bottom": null,
            "display": null,
            "flex": null,
            "flex_flow": null,
            "grid_area": null,
            "grid_auto_columns": null,
            "grid_auto_flow": null,
            "grid_auto_rows": null,
            "grid_column": null,
            "grid_gap": null,
            "grid_row": null,
            "grid_template_areas": null,
            "grid_template_columns": null,
            "grid_template_rows": null,
            "height": null,
            "justify_content": null,
            "justify_items": null,
            "left": null,
            "margin": null,
            "max_height": null,
            "max_width": null,
            "min_height": null,
            "min_width": null,
            "object_fit": null,
            "object_position": null,
            "order": null,
            "overflow": null,
            "overflow_x": null,
            "overflow_y": null,
            "padding": null,
            "right": null,
            "top": null,
            "visibility": null,
            "width": null
          }
        },
        "9926202ad41649d4ab86b436fb239d9b": {
          "model_module": "@jupyter-widgets/base",
          "model_module_version": "1.2.0",
          "model_name": "LayoutModel",
          "state": {
            "_model_module": "@jupyter-widgets/base",
            "_model_module_version": "1.2.0",
            "_model_name": "LayoutModel",
            "_view_count": null,
            "_view_module": "@jupyter-widgets/base",
            "_view_module_version": "1.2.0",
            "_view_name": "LayoutView",
            "align_content": null,
            "align_items": null,
            "align_self": null,
            "border": null,
            "bottom": null,
            "display": null,
            "flex": null,
            "flex_flow": null,
            "grid_area": null,
            "grid_auto_columns": null,
            "grid_auto_flow": null,
            "grid_auto_rows": null,
            "grid_column": null,
            "grid_gap": null,
            "grid_row": null,
            "grid_template_areas": null,
            "grid_template_columns": null,
            "grid_template_rows": null,
            "height": null,
            "justify_content": null,
            "justify_items": null,
            "left": null,
            "margin": null,
            "max_height": null,
            "max_width": null,
            "min_height": null,
            "min_width": null,
            "object_fit": null,
            "object_position": null,
            "order": null,
            "overflow": null,
            "overflow_x": null,
            "overflow_y": null,
            "padding": null,
            "right": null,
            "top": null,
            "visibility": null,
            "width": null
          }
        },
        "b111c79cec8a461eb6ffd3eb4e5dc337": {
          "model_module": "@jupyter-widgets/controls",
          "model_module_version": "1.5.0",
          "model_name": "DescriptionStyleModel",
          "state": {
            "_model_module": "@jupyter-widgets/controls",
            "_model_module_version": "1.5.0",
            "_model_name": "DescriptionStyleModel",
            "_view_count": null,
            "_view_module": "@jupyter-widgets/base",
            "_view_module_version": "1.2.0",
            "_view_name": "StyleView",
            "description_width": ""
          }
        },
        "b7923815fbd540699337ef5ad78af3db": {
          "model_module": "@jupyter-widgets/controls",
          "model_module_version": "1.5.0",
          "model_name": "HBoxModel",
          "state": {
            "_dom_classes": [],
            "_model_module": "@jupyter-widgets/controls",
            "_model_module_version": "1.5.0",
            "_model_name": "HBoxModel",
            "_view_count": null,
            "_view_module": "@jupyter-widgets/controls",
            "_view_module_version": "1.5.0",
            "_view_name": "HBoxView",
            "box_style": "",
            "children": [
              "IPY_MODEL_110918c88dfe44bba24bec21124b4679",
              "IPY_MODEL_90cc36330dcd42b587db908177ad42f7",
              "IPY_MODEL_7a2136abc3c9454384c812db01159beb"
            ],
            "layout": "IPY_MODEL_93f854b22555421899f687b83d2d8d90"
          }
        },
        "bac635bfc0c7426b892c86aeafa244c0": {
          "model_module": "@jupyter-widgets/base",
          "model_module_version": "1.2.0",
          "model_name": "LayoutModel",
          "state": {
            "_model_module": "@jupyter-widgets/base",
            "_model_module_version": "1.2.0",
            "_model_name": "LayoutModel",
            "_view_count": null,
            "_view_module": "@jupyter-widgets/base",
            "_view_module_version": "1.2.0",
            "_view_name": "LayoutView",
            "align_content": null,
            "align_items": null,
            "align_self": null,
            "border": null,
            "bottom": null,
            "display": null,
            "flex": null,
            "flex_flow": null,
            "grid_area": null,
            "grid_auto_columns": null,
            "grid_auto_flow": null,
            "grid_auto_rows": null,
            "grid_column": null,
            "grid_gap": null,
            "grid_row": null,
            "grid_template_areas": null,
            "grid_template_columns": null,
            "grid_template_rows": null,
            "height": null,
            "justify_content": null,
            "justify_items": null,
            "left": null,
            "margin": null,
            "max_height": null,
            "max_width": null,
            "min_height": null,
            "min_width": null,
            "object_fit": null,
            "object_position": null,
            "order": null,
            "overflow": null,
            "overflow_x": null,
            "overflow_y": null,
            "padding": null,
            "right": null,
            "top": null,
            "visibility": null,
            "width": null
          }
        },
        "e076f428a8774a8fabe981b0e445fb3f": {
          "model_module": "@jupyter-widgets/controls",
          "model_module_version": "1.5.0",
          "model_name": "HTMLModel",
          "state": {
            "_dom_classes": [],
            "_model_module": "@jupyter-widgets/controls",
            "_model_module_version": "1.5.0",
            "_model_name": "HTMLModel",
            "_view_count": null,
            "_view_module": "@jupyter-widgets/controls",
            "_view_module_version": "1.5.0",
            "_view_name": "HTMLView",
            "description": "",
            "description_tooltip": null,
            "layout": "IPY_MODEL_fbecb4d8292c42edaf3475e2b264554f",
            "placeholder": "​",
            "style": "IPY_MODEL_2da3c076b7a84a218bd6e16d0d11ecc9",
            "value": "Downloading extra modules: "
          }
        },
        "f8138e170d44428997cbaf4f7d7e958f": {
          "model_module": "@jupyter-widgets/controls",
          "model_module_version": "1.5.0",
          "model_name": "ProgressStyleModel",
          "state": {
            "_model_module": "@jupyter-widgets/controls",
            "_model_module_version": "1.5.0",
            "_model_name": "ProgressStyleModel",
            "_view_count": null,
            "_view_module": "@jupyter-widgets/base",
            "_view_module_version": "1.2.0",
            "_view_name": "StyleView",
            "bar_color": null,
            "description_width": ""
          }
        },
        "fbecb4d8292c42edaf3475e2b264554f": {
          "model_module": "@jupyter-widgets/base",
          "model_module_version": "1.2.0",
          "model_name": "LayoutModel",
          "state": {
            "_model_module": "@jupyter-widgets/base",
            "_model_module_version": "1.2.0",
            "_model_name": "LayoutModel",
            "_view_count": null,
            "_view_module": "@jupyter-widgets/base",
            "_view_module_version": "1.2.0",
            "_view_name": "LayoutView",
            "align_content": null,
            "align_items": null,
            "align_self": null,
            "border": null,
            "bottom": null,
            "display": null,
            "flex": null,
            "flex_flow": null,
            "grid_area": null,
            "grid_auto_columns": null,
            "grid_auto_flow": null,
            "grid_auto_rows": null,
            "grid_column": null,
            "grid_gap": null,
            "grid_row": null,
            "grid_template_areas": null,
            "grid_template_columns": null,
            "grid_template_rows": null,
            "height": null,
            "justify_content": null,
            "justify_items": null,
            "left": null,
            "margin": null,
            "max_height": null,
            "max_width": null,
            "min_height": null,
            "min_width": null,
            "object_fit": null,
            "object_position": null,
            "order": null,
            "overflow": null,
            "overflow_x": null,
            "overflow_y": null,
            "padding": null,
            "right": null,
            "top": null,
            "visibility": null,
            "width": null
          }
        }
      }
    }
  },
  "nbformat": 4,
  "nbformat_minor": 0
}
